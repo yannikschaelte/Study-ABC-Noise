{
 "cells": [
  {
   "cell_type": "code",
   "execution_count": 1,
   "metadata": {},
   "outputs": [
    {
     "data": {
      "image/png": "[encoded data removed]",
      "text/plain": [
       "<Figure size 432x288 with 1 Axes>"
      ]
     },
     "metadata": {
      "needs_background": "light"
     },
     "output_type": "display_data"
    }
   ],
   "source": [
    "import pyabc\n",
    "from study_abc_noise.model import MRNATranscriptionModelVars as ModelVars\n",
    "import matplotlib.pyplot as plt\n",
    "import numpy as np\n",
    "import os\n",
    "import logging\n",
    "import pickle\n",
    "%matplotlib inline\n",
    "\n",
    "# for debugging\n",
    "for module in ['Distance', 'Acceptor', 'Epsilon']:\n",
    "    logger = logging.getLogger(module)\n",
    "    logger.setLevel(logging.DEBUG)\n",
    "    fh = logging.FileHandler('log/logger_laplace.log')\n",
    "    fh.setLevel(logging.DEBUG)\n",
    "    logger.addHandler(fh)\n",
    "\n",
    "arr_n_t = [3, 5, 10, 15, 30, 100]\n",
    "arr_n_t = [3, 5, 10, 15, 30, 100, 300, 1000]\n",
    "\n",
    "arr_n_t = [10]\n",
    "\n",
    "# create data\n",
    "for n_t in reversed(arr_n_t):\n",
    "    fn = f\"data/data_{n_t}_poisson.p\"\n",
    "    mv = ModelVars(n_t=n_t, noise_model='poisson')\n",
    "    if not os.path.isfile(fn):\n",
    "        print(f\"generate data for time {n_t}\")\n",
    "        data_exact = mv.get_model()(mv.p_true)\n",
    "        data = mv.add_noise_to_data(data_exact)\n",
    "        pickle.dump((data_exact, data), open(fn, \"wb\"))\n",
    "    data_exact, data = pickle.load(open(fn, \"rb\"))\n",
    "    plt.plot(data['t'], data['mrna'], 'x-')\n",
    "    plt.plot(data['t'], data_exact['mrna'], 'x-', color='grey')"
   ]
  },
  {
   "cell_type": "code",
   "execution_count": 2,
   "metadata": {},
   "outputs": [
    {
     "name": "stdout",
     "output_type": "stream",
     "text": [
      "mrna_10_poisson_stochacc\n"
     ]
    }
   ],
   "source": [
    "# proposed method\n",
    "\n",
    "for n_t in arr_n_t:\n",
    "    mv = ModelVars(n_t=n_t, noise_model='poisson')\n",
    "    fb = f\"mrna_{n_t}_poisson_stochacc\"\n",
    "    print(fb)\n",
    "    if os.path.isfile(f\"{fb}.db\"):\n",
    "        continue\n",
    "    abc = pyabc.ABCSMC(\n",
    "        models=mv.get_model(),\n",
    "        parameter_priors=mv.get_prior(),\n",
    "        distance_function=mv.get_kernel(),\n",
    "        eps=pyabc.Temperature(log_file=f\"log/log_temperature_{fb}.json\", schemes=[\n",
    "            pyabc.AcceptanceRateScheme(), pyabc.ExpDecayFixedRatioScheme(alpha=0.5)]),\n",
    "       acceptor=pyabc.StochasticAcceptor(log_file=f\"log/log_acceptor_{fb}.json\"),\n",
    "        population_size=1000,\n",
    "        sampler=pyabc.sampler.MulticoreEvalParallelSampler(n_procs=20, check_max_eval=True)\n",
    "    )\n",
    "    data = pickle.load(open(f\"data/data_{n_t}_poisson.p\", \"rb\"))[1]\n",
    "    abc.new(f\"sqlite:///{fb}.db\", data)\n",
    "    abc.run()#min_acceptance_rate=1e-4)\n",
    "    print()"
   ]
  },
  {
   "cell_type": "code",
   "execution_count": null,
   "metadata": {},
   "outputs": [],
   "source": [
    "# sequential but bad c\n",
    "\n",
    "for n_t in arr_n_t:\n",
    "    mv = ModelVars(n_t=n_t)\n",
    "    fb = f\"mrna_{n_t}_{succ_prob}_stochacc_badc\"\n",
    "    if os.path.isfile(f\"{fb}.db\"):\n",
    "        continue\n",
    "    abc = pyabc.ABCSMC(\n",
    "        models=mv.get_model(),\n",
    "        parameter_priors=mv.get_prior(),\n",
    "        distance_function=mv.get_kernel(),\n",
    "        eps=pyabc.Temperature(log_file=f\"log/log_temperature_{fb}.json\"),\n",
    "        acceptor=pyabc.StochasticAcceptor(pdf_norm_method=pyabc.pdf_norm_from_kernel,\n",
    "                                          log_file=f\"log/log_acceptor_{fb}.json\"),\n",
    "        population_size=1000,\n",
    "        sampler=pyabc.sampler.MulticoreEvalParallelSampler(n_procs=20, check_max_eval=True)\n",
    "    )\n",
    "    data = pickle.load(open(f\"data/data_{n_t}_{succ_prob}.p\", \"rb\"))[1]\n",
    "    abc.new(f\"sqlite:///{fb}.db\", data)\n",
    "    abc.run(min_acceptance_rate=1e-3)\n",
    "    print()"
   ]
  },
  {
   "cell_type": "code",
   "execution_count": null,
   "metadata": {},
   "outputs": [],
   "source": [
    "# rejection with adaptive c (in general not applicable)\n",
    "\n",
    "for n_t in arr_n_t:\n",
    "    mv = ModelVars(n_t=n_t)\n",
    "    fb = f\"mrna_{n_t}_{succ_prob}_rejection\"\n",
    "    if os.path.isfile(f\"{fb}.db\"):\n",
    "        continue\n",
    "    abc = pyabc.ABCSMC(\n",
    "        models=mv.get_model(),\n",
    "        parameter_priors=mv.get_prior(),\n",
    "        distance_function=mv.get_kernel(),\n",
    "        eps=pyabc.Temperature(log_file=f\"log/log_temperature_{fb}.json\"),\n",
    "        acceptor=pyabc.StochasticAcceptor(log_file=f\"log/log_acceptor_{fb}.json\"),\n",
    "        population_size=1000,\n",
    "        sampler=pyabc.sampler.MulticoreEvalParallelSampler(n_procs=20, check_max_eval=True)\n",
    "    )\n",
    "    data = pickle.load(open(f\"data/data_{n_t}_{succ_prob}.p\", \"rb\"))[1]\n",
    "    abc.new(f\"sqlite:///{fb}.db\", data)\n",
    "    abc.run(max_nr_populations=1, min_acceptance_rate=1e-3)\n",
    "    print()"
   ]
  },
  {
   "cell_type": "code",
   "execution_count": null,
   "metadata": {},
   "outputs": [],
   "source": [
    "# rejection with bad (but correct) c\n",
    "\n",
    "for n_t in arr_n_t:\n",
    "    mv = ModelVars(n_t=n_t)\n",
    "    fb = f\"mrna_{n_t}_{succ_prob}_rejection_badc\"\n",
    "    if os.path.isfile(f\"{fb}.db\"):\n",
    "        continue\n",
    "    abc = pyabc.ABCSMC(\n",
    "        models=mv.get_model(),\n",
    "        parameter_priors=mv.get_prior(),\n",
    "        distance_function=mv.get_kernel(),\n",
    "        eps=pyabc.Temperature(log_file=f\"log/log_temperature_{fb}.json\"),\n",
    "        acceptor=pyabc.StochasticAcceptor(pdf_norm_method=pyabc.pdf_norm_from_kernel,\n",
    "                                          log_file=f\"log/log_acceptor_{fb}.json\"),\n",
    "        population_size=1000,\n",
    "    )\n",
    "    data = pickle.load(open(f\"data/data_{n_t}_{succ_prob}.p\", \"rb\"))[1]\n",
    "    abc.new(f\"sqlite:///{fb}.db\", data)\n",
    "    abc.run(max_nr_populations=1, min_acceptance_rate=1e-3)\n",
    "    print()"
   ]
  },
  {
   "cell_type": "code",
   "execution_count": null,
   "metadata": {},
   "outputs": [],
   "source": [
    "# noisy model\n",
    "\n",
    "for n_t in arr_n_t:\n",
    "    mv = ModelVars(n_t=n_t)\n",
    "    fb = f\"mrna_{n_t}_{succ_prob}_noisymodel\"\n",
    "    if os.path.isfile(f\"{fb}.db\"):\n",
    "        continue\n",
    "    abc = pyabc.ABCSMC(\n",
    "        models=mv.get_model_noisy(),\n",
    "        parameter_priors=mv.get_prior(),\n",
    "        distance_function=mv.get_distance(),\n",
    "        population_size=1000,\n",
    "        sampler=pyabc.sampler.MulticoreEvalParallelSampler(n_procs=20, check_max_eval=True)\n",
    "    )\n",
    "    data = pickle.load(open(f\"data/data_{n_t}_{succ_prob}.p\", \"rb\"))[1]\n",
    "    abc.new(f\"sqlite:///{fb}.db\", data)\n",
    "    abc.run(min_acceptance_rate=1e-3)\n",
    "    print()"
   ]
  },
  {
   "cell_type": "code",
   "execution_count": null,
   "metadata": {},
   "outputs": [],
   "source": []
  }
 ],
 "metadata": {
  "kernelspec": {
   "display_name": "Python 3",
   "language": "python",
   "name": "python3"
  },
  "language_info": {
   "codemirror_mode": {
    "name": "ipython",
    "version": 3
   },
   "file_extension": ".py",
   "mimetype": "text/x-python",
   "name": "python",
   "nbconvert_exporter": "python",
   "pygments_lexer": "ipython3",
   "version": "3.7.3"
  }
 },
 "nbformat": 4,
 "nbformat_minor": 2
}
