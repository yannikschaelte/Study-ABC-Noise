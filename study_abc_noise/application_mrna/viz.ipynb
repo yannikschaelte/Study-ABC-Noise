{
 "cells": [
  {
   "cell_type": "code",
   "execution_count": 1,
   "metadata": {},
   "outputs": [],
   "source": [
    "import pyabc\n",
    "import os\n",
    "import matplotlib.pyplot as plt\n",
    "from study_abc_noise.model import MRNATranscriptionModelVars as ModelVars"
   ]
  },
  {
   "cell_type": "code",
   "execution_count": 2,
   "metadata": {},
   "outputs": [
    {
     "name": "stdout",
     "output_type": "stream",
     "text": [
      "3 31996 12668 13848.361707244112 -6.577012272275681 -6.487924463600962 1.0931766425042715\n",
      "5 53759 24766 19213.80314934419 -12.939846167469454 -13.193688977495185 0.775813742604546\n",
      "10 268489 172579 509123.4919425479 -29.525847858927534 -28.44401235766989 2.950089477529409\n",
      "15 2647412 2181014 19158218.097319208 -46.37630275640552 -44.20336089564415 8.784087629570102\n"
     ]
    },
    {
     "data": {
      "image/png": "[encoded data removed]",
      "text/plain": [
       "<Figure size 288x288 with 1 Axes>"
      ]
     },
     "metadata": {
      "needs_background": "light"
     },
     "output_type": "display_data"
    },
    {
     "data": {
      "image/png": "[encoded data removed]",
      "text/plain": [
       "<Figure size 288x288 with 1 Axes>"
      ]
     },
     "metadata": {
      "needs_background": "light"
     },
     "output_type": "display_data"
    }
   ],
   "source": [
    "import pickle\n",
    "import numpy as np\n",
    "\n",
    "factors = []\n",
    "arr_n_t = [3,5,10,15]\n",
    "n_d = len(arr_n_t)\n",
    "arr_total_samples_assa = []\n",
    "\n",
    "for n_t in arr_n_t:\n",
    "    mv = ModelVars(n_t=n_t, noise_model='poisson')\n",
    "    kernel = mv.get_kernel()\n",
    "    data = pickle.load(open(f\"data/data_{n_t}_poisson.p\", 'rb'))[1]\n",
    "    kernel.initialize(0, None, data)\n",
    "    # the (too high) maximum density\n",
    "    c_hat = kernel.pdf_max\n",
    "    \n",
    "    log_file = f\"log/log_acceptor_mrna_{n_t}_poisson_stochacc.json\"\n",
    "    df = pyabc.storage.load_dict_from_json(log_file)\n",
    "    # the last (highest) used adaptive c (could be computed by optimization)\n",
    "    c = df[max(df.keys())]\n",
    "    \n",
    "    h = pyabc.History(f\"sqlite:///mrna_{n_t}_poisson_stochacc.db\", create=False)\n",
    "    # number of samples in the last iteration\n",
    "    samples = np.array(h.get_all_populations()['samples'])[-1]\n",
    "\n",
    "    total_samples = sum(h.get_all_populations()['samples'])\n",
    "    arr_total_samples_assa.append(total_samples)\n",
    "\n",
    "    factor = np.exp(c_hat - c)\n",
    "    factors.append(factor)\n",
    "    \n",
    "    samples_prediction = np.exp(c_hat - c) * samples\n",
    "    print(n_t, total_samples, samples, samples_prediction, c, c_hat, samples_prediction / samples)\n",
    "    \n",
    "fig, ax = plt.subplots()\n",
    "ax.bar(np.arange(n_d), arr_total_samples_assa)\n",
    "ax.set_xticks(np.arange(n_d))\n",
    "ax.set_xticklabels(arr_n_t)\n",
    "ax.set_xlabel(\"# Data\")\n",
    "ax.set_ylabel(\"# Simulations\")\n",
    "ax.spines['right'].set_visible(False)\n",
    "ax.spines['top'].set_visible(False)\n",
    "ax.set_title(\"M4\")\n",
    "fig.set_size_inches((4,4))\n",
    "fig.tight_layout()\n",
    "\n",
    "for fmt in ['svg', 'eps']:\n",
    "    plt.savefig(f\"mrna_poisson_datapoint_scaling_samples.{fmt}\", format=fmt)\n",
    "    \n",
    "fig, ax = plt.subplots()\n",
    "ax.bar(np.arange(n_d), factors)\n",
    "ax.set_xticks(np.arange(n_d))\n",
    "ax.set_xticklabels(arr_n_t)\n",
    "ax.set_xlabel(\"# Data\")\n",
    "ax.set_ylabel(\"$\\hat c / c$\")\n",
    "ax.spines['right'].set_visible(False)\n",
    "ax.spines['top'].set_visible(False)\n",
    "ax.set_title(\"M4\")\n",
    "fig.set_size_inches((4,4))\n",
    "fig.tight_layout()\n",
    "\n",
    "for fmt in ['svg', 'eps']:\n",
    "    plt.savefig(f\"mrna_poisson_datapoint_scaling.{fmt}\", format=fmt)"
   ]
  }
 ],
 "metadata": {
  "kernelspec": {
   "display_name": "Python 3",
   "language": "python",
   "name": "python3"
  },
  "language_info": {
   "codemirror_mode": {
    "name": "ipython",
    "version": 3
   },
   "file_extension": ".py",
   "mimetype": "text/x-python",
   "name": "python",
   "nbconvert_exporter": "python",
   "pygments_lexer": "ipython3",
   "version": "3.7.3"
  }
 },
 "nbformat": 4,
 "nbformat_minor": 2
}
