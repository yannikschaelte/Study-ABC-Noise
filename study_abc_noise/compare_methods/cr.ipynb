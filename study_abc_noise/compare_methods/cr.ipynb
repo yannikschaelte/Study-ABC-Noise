{
 "cells": [
  {
   "cell_type": "code",
   "execution_count": 10,
   "metadata": {},
   "outputs": [
    {
     "data": {
      "text/plain": [
       "<matplotlib.axes._subplots.AxesSubplot at 0x7f5f3fa46128>"
      ]
     },
     "execution_count": 10,
     "metadata": {},
     "output_type": "execute_result"
    },
    {
     "data": {
      "image/png": "[encoded data removed]",
      "text/plain": [
       "<Figure size 432x288 with 1 Axes>"
      ]
     },
     "metadata": {
      "needs_background": "light"
     },
     "output_type": "display_data"
    }
   ],
   "source": [
    "import pyabc\n",
    "from study_abc_noise.model import \\\n",
    "    ConversionReactionModelVars as ModelVars\n",
    "import numpy as np\n",
    "import scipy.stats as stats\n",
    "import scipy.integrate as integrate\n",
    "import matplotlib.pyplot as plt\n",
    "import logging\n",
    "import pickle\n",
    "import os\n",
    "%matplotlib inline\n",
    "\n",
    "# for debugging\n",
    "df_logger = logging.getLogger('Distance')\n",
    "df_logger.setLevel(logging.DEBUG)\n",
    "df_logger = logging.getLogger('Acceptor')\n",
    "df_logger.setLevel(logging.DEBUG)\n",
    "df_logger = logging.getLogger('Epsilon')\n",
    "df_logger.setLevel(logging.DEBUG)\n",
    "\n",
    "# model\n",
    "mv = ModelVars(n_t=50)\n",
    "\n",
    "# data\n",
    "def get_data():\n",
    "    try:\n",
    "        data = pickle.load(open(\"data_gaussian.dat\", 'rb'))\n",
    "    except:\n",
    "        data = mv.get_model_noisy()(mv.p_true)\n",
    "        pickle.dump(data, open(\"data_gaussian.dat\", 'wb'))\n",
    "    return data\n",
    "data = get_data()\n",
    "# plot it\n",
    "mv.viz_data_and_sim(data)"
   ]
  },
  {
   "cell_type": "code",
   "execution_count": 11,
   "metadata": {},
   "outputs": [
    {
     "name": "stderr",
     "output_type": "stream",
     "text": [
      "INFO:History:Start <ABCSMC(id=2, start_time=2019-11-21 23:40:21.030030, end_time=None)>\n",
      "INFO:ABC:Calibration sample before t=0.\n",
      "DEBUG:Acceptor:pdf_norm=5.0130e+01 for t=0.\n",
      "INFO:ABC:t: 0, eps: 1478.105588328931.\n",
      "DEBUG:Acceptor:Encountered pd=6.2768e+01 > c=5.0130e+01, thus weight=1.0086e+00.\n",
      "DEBUG:Acceptor:Encountered pd=8.0782e+01 > c=5.0130e+01, thus weight=1.0210e+00.\n",
      "INFO:ABC:Acceptance rate: 100 / 265 = 3.7736e-01, ESS=9.9999e+01.\n",
      "DEBUG:Acceptor:pdf_norm=8.0782e+01 for t=1.\n",
      "DEBUG:Epsilon:Proposed temperatures: [353.3394403640937, 739.0527941644655].\n",
      "INFO:ABC:t: 1, eps: 353.3394403640937.\n",
      "DEBUG:Acceptor:Encountered pd=1.2236e+02 > c=8.0782e+01, thus weight=1.1249e+00.\n",
      "DEBUG:Acceptor:Encountered pd=9.1273e+01 > c=8.0782e+01, thus weight=1.0301e+00.\n",
      "DEBUG:Acceptor:Encountered pd=8.5329e+01 > c=8.0782e+01, thus weight=1.0129e+00.\n",
      "INFO:ABC:Acceptance rate: 100 / 326 = 3.0675e-01, ESS=8.8838e+01.\n",
      "DEBUG:Acceptor:pdf_norm=1.2236e+02 for t=2.\n",
      "DEBUG:Epsilon:Proposed temperatures: [228.40580764578445, 176.66972018204686].\n",
      "INFO:ABC:t: 2, eps: 176.66972018204686.\n",
      "DEBUG:Acceptor:Encountered pd=1.2478e+02 > c=1.2236e+02, thus weight=1.0138e+00.\n",
      "INFO:ABC:Acceptance rate: 100 / 387 = 2.5840e-01, ESS=6.8837e+01.\n",
      "DEBUG:Acceptor:pdf_norm=1.2478e+02 for t=3.\n",
      "DEBUG:Epsilon:Proposed temperatures: [162.2934532143369, 88.33486009102343].\n",
      "INFO:ABC:t: 3, eps: 88.33486009102343.\n",
      "DEBUG:Acceptor:Encountered pd=1.2714e+02 > c=1.2478e+02, thus weight=1.0271e+00.\n",
      "DEBUG:Acceptor:Encountered pd=1.2615e+02 > c=1.2478e+02, thus weight=1.0157e+00.\n",
      "DEBUG:Acceptor:Encountered pd=1.2605e+02 > c=1.2478e+02, thus weight=1.0144e+00.\n",
      "INFO:ABC:Acceptance rate: 100 / 635 = 1.5748e-01, ESS=8.0355e+01.\n",
      "DEBUG:Acceptor:pdf_norm=1.2714e+02 for t=4.\n",
      "DEBUG:Epsilon:Proposed temperatures: [76.6873014333307, 44.167430045511715].\n",
      "INFO:ABC:t: 4, eps: 44.167430045511715.\n",
      "DEBUG:Acceptor:Encountered pd=1.2719e+02 > c=1.2714e+02, thus weight=1.0011e+00.\n",
      "DEBUG:Acceptor:Encountered pd=1.2733e+02 > c=1.2714e+02, thus weight=1.0043e+00.\n",
      "DEBUG:Acceptor:Encountered pd=1.2754e+02 > c=1.2714e+02, thus weight=1.0091e+00.\n",
      "INFO:ABC:Acceptance rate: 100 / 542 = 1.8450e-01, ESS=6.0955e+01.\n",
      "DEBUG:Acceptor:pdf_norm=1.2754e+02 for t=5.\n",
      "DEBUG:Epsilon:Proposed temperatures: [37.64929334444085, 22.083715022755857].\n",
      "INFO:ABC:t: 5, eps: 22.083715022755857.\n",
      "DEBUG:Acceptor:Encountered pd=1.2763e+02 > c=1.2754e+02, thus weight=1.0040e+00.\n",
      "DEBUG:Acceptor:Encountered pd=1.2762e+02 > c=1.2754e+02, thus weight=1.0037e+00.\n",
      "DEBUG:Acceptor:Encountered pd=1.2758e+02 > c=1.2754e+02, thus weight=1.0019e+00.\n",
      "INFO:ABC:Acceptance rate: 100 / 541 = 1.8484e-01, ESS=8.8458e+01.\n",
      "DEBUG:Acceptor:pdf_norm=1.2763e+02 for t=6.\n",
      "DEBUG:Epsilon:Proposed temperatures: [14.423928900843308, 11.041857511377929].\n",
      "INFO:ABC:t: 6, eps: 11.041857511377929.\n",
      "INFO:ABC:Acceptance rate: 100 / 387 = 2.5840e-01, ESS=9.0741e+01.\n",
      "DEBUG:Acceptor:pdf_norm=1.2763e+02 for t=7.\n",
      "DEBUG:Epsilon:Proposed temperatures: [5.585147054382892, 5.520928755688964].\n",
      "INFO:ABC:t: 7, eps: 5.520928755688964.\n",
      "INFO:ABC:Acceptance rate: 100 / 344 = 2.9070e-01, ESS=8.7950e+01.\n",
      "DEBUG:Acceptor:pdf_norm=1.2763e+02 for t=8.\n",
      "DEBUG:Epsilon:Proposed temperatures: [2.9702708588464684, 2.760464377844482].\n",
      "INFO:ABC:t: 8, eps: 2.760464377844482.\n",
      "DEBUG:Acceptor:Encountered pd=1.2763e+02 > c=1.2763e+02, thus weight=1.0004e+00.\n",
      "DEBUG:Acceptor:Encountered pd=1.2763e+02 > c=1.2763e+02, thus weight=1.0025e+00.\n",
      "INFO:ABC:Acceptance rate: 100 / 369 = 2.7100e-01, ESS=8.6958e+01.\n",
      "DEBUG:Acceptor:pdf_norm=1.2763e+02 for t=9.\n",
      "DEBUG:Epsilon:Proposed temperatures: [1.184632106604566, 1.380232188922241].\n",
      "INFO:ABC:t: 9, eps: 1.184632106604566.\n",
      "INFO:ABC:Acceptance rate: 100 / 398 = 2.5126e-01, ESS=7.9746e+01.\n",
      "DEBUG:Acceptor:pdf_norm=1.2763e+02 for t=10.\n",
      "DEBUG:Epsilon:Proposed temperatures: [1.0, 0.592316053302283].\n",
      "INFO:ABC:t: 10, eps: 1.0.\n",
      "INFO:ABC:Acceptance rate: 100 / 258 = 3.8760e-01, ESS=7.8072e+01.\n",
      "DEBUG:Acceptor:pdf_norm=1.2763e+02 for t=11.\n",
      "DEBUG:Epsilon:Proposed temperatures: [1.0, 0.5].\n",
      "INFO:History:Done <ABCSMC(id=2, start_time=2019-11-21 23:40:21.030030, end_time=2019-11-21 23:40:39.790340)>\n"
     ]
    }
   ],
   "source": [
    "acceptor = pyabc.StochasticAcceptor()\n",
    "temperature = pyabc.Temperature()\n",
    "\n",
    "# define the analysis\n",
    "abc = pyabc.ABCSMC(\n",
    "    models=mv.get_model(),\n",
    "    parameter_priors=mv.get_prior(),\n",
    "    distance_function=mv.get_kernel(),\n",
    "    eps=temperature,\n",
    "    acceptor=acceptor)\n",
    "h = abc.new(\"sqlite:///h_gaussian.db\", data)\n",
    "h = abc.run()"
   ]
  },
  {
   "cell_type": "code",
   "execution_count": null,
   "metadata": {},
   "outputs": [
    {
     "name": "stderr",
     "output_type": "stream",
     "text": [
      "INFO:History:Start <ABCSMC(id=2, start_time=2019-11-21 23:40:43.505384, end_time=None)>\n",
      "DEBUG:Acceptor:pdf_norm=1.4965e+02 for t=0.\n",
      "INFO:ABC:Calibration sample before t=0.\n",
      "INFO:ABC:t: 0, eps: 1592.6621574944986.\n",
      "INFO:ABC:Acceptance rate: 100 / 303 = 3.3003e-01, ESS=1.0000e+02.\n",
      "DEBUG:Acceptor:pdf_norm=1.4965e+02 for t=1.\n",
      "DEBUG:Epsilon:Proposed temperatures: [686.5019222213743, 796.3310787472493].\n",
      "INFO:ABC:t: 1, eps: 686.5019222213743.\n",
      "INFO:ABC:Acceptance rate: 100 / 282 = 3.5461e-01, ESS=9.2406e+01.\n",
      "DEBUG:Acceptor:pdf_norm=1.4965e+02 for t=2.\n",
      "DEBUG:Epsilon:Proposed temperatures: [354.6468173113365, 343.2509611106872].\n",
      "INFO:ABC:t: 2, eps: 343.2509611106872.\n",
      "INFO:ABC:Acceptance rate: 100 / 355 = 2.8169e-01, ESS=8.8764e+01.\n",
      "DEBUG:Acceptor:pdf_norm=1.4965e+02 for t=3.\n",
      "DEBUG:Epsilon:Proposed temperatures: [253.6201848835062, 171.6254805553436].\n",
      "INFO:ABC:t: 3, eps: 171.6254805553436.\n",
      "INFO:ABC:Acceptance rate: 100 / 422 = 2.3697e-01, ESS=8.8889e+01.\n",
      "DEBUG:Acceptor:pdf_norm=1.4965e+02 for t=4.\n",
      "DEBUG:Epsilon:Proposed temperatures: [168.52907546119036, 85.8127402776718].\n",
      "INFO:ABC:t: 4, eps: 85.8127402776718.\n",
      "INFO:ABC:Acceptance rate: 100 / 675 = 1.4815e-01, ESS=7.6321e+01.\n",
      "DEBUG:Acceptor:pdf_norm=1.4965e+02 for t=5.\n",
      "DEBUG:Epsilon:Proposed temperatures: [115.49060126833524, 42.9063701388359].\n",
      "INFO:ABC:t: 5, eps: 42.9063701388359.\n",
      "INFO:ABC:Acceptance rate: 100 / 1094 = 9.1408e-02, ESS=6.5194e+01.\n",
      "DEBUG:Acceptor:pdf_norm=1.4965e+02 for t=6.\n",
      "DEBUG:Epsilon:Proposed temperatures: [54.5540951821647, 21.45318506941795].\n",
      "INFO:ABC:t: 6, eps: 21.45318506941795.\n",
      "INFO:ABC:Acceptance rate: 100 / 1405 = 7.1174e-02, ESS=8.6739e+01.\n",
      "DEBUG:Acceptor:pdf_norm=1.4965e+02 for t=7.\n",
      "DEBUG:Epsilon:Proposed temperatures: [36.74883090370982, 10.726592534708974].\n",
      "INFO:ABC:t: 7, eps: 10.726592534708974.\n",
      "INFO:ABC:Acceptance rate: 100 / 3000 = 3.3333e-02, ESS=8.8684e+01.\n",
      "DEBUG:Acceptor:pdf_norm=1.4965e+02 for t=8.\n",
      "DEBUG:Epsilon:Proposed temperatures: [25.094650393320588, 5.363296267354487].\n",
      "INFO:ABC:t: 8, eps: 5.363296267354487.\n",
      "INFO:ABC:Acceptance rate: 100 / 16707 = 5.9855e-03, ESS=7.3300e+01.\n",
      "DEBUG:Acceptor:pdf_norm=1.4965e+02 for t=9.\n",
      "DEBUG:Epsilon:Proposed temperatures: [23.12322746034725, 2.6816481336772435].\n",
      "INFO:ABC:t: 9, eps: 2.6816481336772435.\n"
     ]
    }
   ],
   "source": [
    "acceptor = pyabc.StochasticAcceptor(pdf_norm_method=pyabc.pdf_norm_from_kernel)\n",
    "temperature = pyabc.Temperature()\n",
    "\n",
    "# define the analysis\n",
    "abc = pyabc.ABCSMC(\n",
    "    models=mv.get_model(),\n",
    "    parameter_priors=mv.get_prior(),\n",
    "    distance_function=mv.get_kernel(),\n",
    "    eps=temperature,\n",
    "    acceptor=acceptor)\n",
    "h_badc = abc.new(\"sqlite:///h_gaussian_badc.db\", data)\n",
    "h_badc = abc.run()"
   ]
  },
  {
   "cell_type": "code",
   "execution_count": null,
   "metadata": {},
   "outputs": [],
   "source": [
    "acceptor = pyabc.StochasticAcceptor(pdf_norm_method=pyabc.pdf_norm_from_kernel)\n",
    "temperature = pyabc.Temperature()\n",
    "\n",
    "# define the analysis\n",
    "abc = pyabc.ABCSMC(\n",
    "    models=mv.get_model(),\n",
    "    parameter_priors=mv.get_prior(),\n",
    "    distance_function=mv.get_kernel(),\n",
    "    eps=temperature,\n",
    "    acceptor=acceptor)\n",
    "h_badc = abc.new(\"sqlite:///h_gaussian_badc.db\", data)\n",
    "h_badc = abc.run(m)"
   ]
  },
  {
   "cell_type": "code",
   "execution_count": 9,
   "metadata": {},
   "outputs": [
    {
     "data": {
      "text/plain": [
       "<matplotlib.axes._subplots.AxesSubplot at 0x7f5f3fba3f60>"
      ]
     },
     "execution_count": 9,
     "metadata": {},
     "output_type": "execute_result"
    },
    {
     "data": {
      "image/png": "[encoded data removed]",
      "text/plain": [
       "<Figure size 432x288 with 1 Axes>"
      ]
     },
     "metadata": {
      "needs_background": "light"
     },
     "output_type": "display_data"
    }
   ],
   "source": [
    "h = pyabc.History(\"sqlite:///h_gaussian.db\")\n",
    "h_badc = pyabc.History(\"sqlite:///h_gaussian_badc.db\")\n",
    "h_rejection = pyabc.History(\"sqlite:///h_gaussian_rejection.db\")\n",
    "\n",
    "histories = [h_rejection, h_badc, h]\n",
    "labels = [\"Rejection ABC\", \"ABC-SMC\", \"ABC-SMC Adaptive c\"]\n",
    "pyabc.visualization.plot_sample_numbers(histories)"
   ]
  },
  {
   "cell_type": "code",
   "execution_count": null,
   "metadata": {},
   "outputs": [],
   "source": []
  }
 ],
 "metadata": {
  "kernelspec": {
   "display_name": "Python 3",
   "language": "python",
   "name": "python3"
  },
  "language_info": {
   "codemirror_mode": {
    "name": "ipython",
    "version": 3
   },
   "file_extension": ".py",
   "mimetype": "text/x-python",
   "name": "python",
   "nbconvert_exporter": "python",
   "pygments_lexer": "ipython3",
   "version": "3.7.3"
  }
 },
 "nbformat": 4,
 "nbformat_minor": 2
}
