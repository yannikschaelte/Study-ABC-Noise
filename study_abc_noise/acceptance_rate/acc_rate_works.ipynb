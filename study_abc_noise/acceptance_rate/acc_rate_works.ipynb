{
 "cells": [
  {
   "cell_type": "markdown",
   "metadata": {},
   "source": [
    "# Acceptance rate scheme matches target rate"
   ]
  },
  {
   "cell_type": "markdown",
   "metadata": {},
   "source": [
    "## ODE model"
   ]
  },
  {
   "cell_type": "markdown",
   "metadata": {},
   "source": [
    "Let's start with an ODE model of a conversion reaction:"
   ]
  },
  {
   "cell_type": "code",
   "execution_count": 1,
   "metadata": {
    "scrolled": false
   },
   "outputs": [
    {
     "data": {
      "text/plain": [
       "<matplotlib.axes._subplots.AxesSubplot at 0x7f43b95d05f8>"
      ]
     },
     "execution_count": 1,
     "metadata": {},
     "output_type": "execute_result"
    },
    {
     "data": {
      "image/png": "[encoded data removed]",
      "text/plain": [
       "<Figure size 432x288 with 1 Axes>"
      ]
     },
     "metadata": {
      "needs_background": "light"
     },
     "output_type": "display_data"
    }
   ],
   "source": [
    "import pyabc\n",
    "from study_abc_noise.model import \\\n",
    "    ConversionReactionModelVars as ModelVars\n",
    "import numpy as np\n",
    "import scipy.stats as stats\n",
    "import scipy.integrate as integrate\n",
    "import matplotlib.pyplot as plt\n",
    "import logging\n",
    "%matplotlib inline\n",
    "\n",
    "# for debugging\n",
    "df_logger = logging.getLogger('Distance')\n",
    "df_logger.setLevel(logging.DEBUG)\n",
    "df_logger = logging.getLogger('Acceptor')\n",
    "df_logger.setLevel(logging.DEBUG)\n",
    "df_logger = logging.getLogger('Epsilon')\n",
    "df_logger.setLevel(logging.DEBUG)\n",
    "\n",
    "# model\n",
    "mv = ModelVars(n_t=8)\n",
    "\n",
    "# data\n",
    "data = mv.get_model_noisy()(mv.p_true)\n",
    "\n",
    "# plot it\n",
    "mv.viz_data_and_sim(data)"
   ]
  },
  {
   "cell_type": "code",
   "execution_count": 2,
   "metadata": {},
   "outputs": [
    {
     "name": "stdout",
     "output_type": "stream",
     "text": [
      "{'p0': 0.06, 'p1': 0.08}\n"
     ]
    }
   ],
   "source": [
    "print(mv.p_true)"
   ]
  },
  {
   "cell_type": "markdown",
   "metadata": {},
   "source": [
    "Now let's run it:"
   ]
  },
  {
   "cell_type": "code",
   "execution_count": 3,
   "metadata": {},
   "outputs": [
    {
     "name": "stderr",
     "output_type": "stream",
     "text": [
      "INFO:History:Start <ABCSMC(id=1, start_time=2019-11-25 10:14:42.455104, end_time=None)>\n",
      "INFO:ABC:Calibration sample before t=0.\n",
      "DEBUG:Acceptor:pdf_norm=8.8709e+00 for t=0.\n",
      "INFO:ABC:t: 0, eps: 151.15539124146062.\n",
      "DEBUG:Acceptor:Encountered pd=1.1585e+01 > c=8.8709e+00, thus weight=1.0181e+00.\n",
      "DEBUG:Acceptor:Encountered pd=1.4251e+01 > c=8.8709e+00, thus weight=1.0362e+00.\n",
      "DEBUG:Acceptor:Encountered pd=1.4211e+01 > c=8.8709e+00, thus weight=1.0360e+00.\n",
      "DEBUG:Acceptor:Encountered pd=2.0688e+01 > c=8.8709e+00, thus weight=1.0813e+00.\n",
      "DEBUG:Acceptor:Encountered pd=1.5734e+01 > c=8.8709e+00, thus weight=1.0464e+00.\n",
      "INFO:ABC:Acceptance rate: 100 / 390 = 2.5641e-01, ESS=9.9989e+01.\n",
      "DEBUG:Acceptor:pdf_norm=2.0688e+01 for t=1.\n",
      "DEBUG:Epsilon:Proposed temperatures: [40.327424929757505].\n",
      "INFO:ABC:t: 1, eps: 40.327424929757505.\n",
      "DEBUG:Acceptor:Encountered pd=2.1697e+01 > c=2.0688e+01, thus weight=1.0253e+00.\n",
      "DEBUG:Acceptor:Encountered pd=2.1850e+01 > c=2.0688e+01, thus weight=1.0292e+00.\n",
      "DEBUG:Acceptor:Encountered pd=2.0793e+01 > c=2.0688e+01, thus weight=1.0026e+00.\n",
      "INFO:ABC:Acceptance rate: 100 / 289 = 3.4602e-01, ESS=8.9117e+01.\n",
      "DEBUG:Acceptor:pdf_norm=2.1850e+01 for t=2.\n",
      "DEBUG:Epsilon:Proposed temperatures: [28.40281676162493].\n",
      "INFO:ABC:t: 2, eps: 28.40281676162493.\n",
      "INFO:ABC:Acceptance rate: 100 / 355 = 2.8169e-01, ESS=8.4466e+01.\n",
      "DEBUG:Acceptor:pdf_norm=2.1850e+01 for t=3.\n",
      "DEBUG:Epsilon:Proposed temperatures: [20.003885106628594].\n",
      "INFO:ABC:t: 3, eps: 20.003885106628594.\n",
      "INFO:ABC:Acceptance rate: 100 / 366 = 2.7322e-01, ESS=7.3208e+01.\n",
      "DEBUG:Acceptor:pdf_norm=2.1850e+01 for t=4.\n",
      "DEBUG:Epsilon:Proposed temperatures: [20.02575325974519].\n",
      "INFO:ABC:t: 4, eps: 20.003885106628594.\n",
      "DEBUG:Acceptor:Encountered pd=2.2061e+01 > c=2.1850e+01, thus weight=1.0106e+00.\n",
      "DEBUG:Acceptor:Encountered pd=2.2004e+01 > c=2.1850e+01, thus weight=1.0077e+00.\n",
      "INFO:ABC:Acceptance rate: 100 / 351 = 2.8490e-01, ESS=7.5351e+01.\n",
      "DEBUG:Acceptor:pdf_norm=2.2061e+01 for t=5.\n",
      "DEBUG:Epsilon:Proposed temperatures: [15.572373662459855].\n",
      "INFO:ABC:t: 5, eps: 15.572373662459855.\n",
      "DEBUG:Acceptor:Encountered pd=2.2308e+01 > c=2.2061e+01, thus weight=1.0159e+00.\n",
      "INFO:ABC:Acceptance rate: 100 / 309 = 3.2362e-01, ESS=7.6429e+01.\n",
      "DEBUG:Acceptor:pdf_norm=2.2308e+01 for t=6.\n",
      "DEBUG:Epsilon:Proposed temperatures: [13.53746129351119].\n",
      "INFO:History:Done <ABCSMC(id=1, start_time=2019-11-25 10:14:42.455104, end_time=2019-11-25 10:14:51.977931)>\n",
      "INFO:History:Start <ABCSMC(id=2, start_time=2019-11-25 10:14:52.000642, end_time=None)>\n",
      "INFO:ABC:Calibration sample before t=0.\n",
      "DEBUG:Acceptor:pdf_norm=2.2308e+01 for t=0.\n",
      "DEBUG:Epsilon:Proposed temperatures: [195.5192041929156].\n",
      "INFO:ABC:t: 0, eps: 195.5192041929156.\n",
      "INFO:ABC:Acceptance rate: 1000 / 3103 = 3.2227e-01, ESS=1.0000e+03.\n",
      "DEBUG:Acceptor:pdf_norm=2.2308e+01 for t=1.\n",
      "DEBUG:Epsilon:Proposed temperatures: [58.1360426146515].\n",
      "INFO:ABC:t: 1, eps: 58.1360426146515.\n",
      "INFO:ABC:Acceptance rate: 1000 / 3361 = 2.9753e-01, ESS=9.1012e+02.\n",
      "DEBUG:Acceptor:pdf_norm=2.2308e+01 for t=2.\n",
      "DEBUG:Epsilon:Proposed temperatures: [32.41291804535983].\n",
      "INFO:ABC:t: 2, eps: 32.41291804535983.\n",
      "INFO:ABC:Acceptance rate: 1000 / 3462 = 2.8885e-01, ESS=8.5636e+02.\n",
      "DEBUG:Acceptor:pdf_norm=2.2308e+01 for t=3.\n",
      "DEBUG:Epsilon:Proposed temperatures: [24.00135734050064].\n",
      "INFO:ABC:t: 3, eps: 24.00135734050064.\n",
      "DEBUG:Acceptor:Encountered pd=2.2320e+01 > c=2.2308e+01, thus weight=1.0005e+00.\n",
      "INFO:ABC:Acceptance rate: 1000 / 3170 = 3.1546e-01, ESS=6.8146e+02.\n",
      "DEBUG:Acceptor:pdf_norm=2.2320e+01 for t=4.\n",
      "DEBUG:Epsilon:Proposed temperatures: [18.38287163204588].\n",
      "INFO:ABC:t: 4, eps: 18.38287163204588.\n",
      "DEBUG:Acceptor:Encountered pd=2.2330e+01 > c=2.2320e+01, thus weight=1.0006e+00.\n",
      "DEBUG:Acceptor:Encountered pd=2.2324e+01 > c=2.2320e+01, thus weight=1.0002e+00.\n",
      "DEBUG:Acceptor:Encountered pd=2.2330e+01 > c=2.2320e+01, thus weight=1.0006e+00.\n",
      "INFO:ABC:Acceptance rate: 1000 / 3589 = 2.7863e-01, ESS=7.1640e+02.\n",
      "DEBUG:Acceptor:pdf_norm=2.2330e+01 for t=5.\n",
      "DEBUG:Epsilon:Proposed temperatures: [14.832975371391829].\n",
      "INFO:ABC:t: 5, eps: 14.832975371391829.\n",
      "INFO:ABC:Acceptance rate: 1000 / 3344 = 2.9904e-01, ESS=5.5819e+02.\n",
      "DEBUG:Acceptor:pdf_norm=2.2330e+01 for t=6.\n",
      "DEBUG:Epsilon:Proposed temperatures: [12.77402021761384].\n",
      "INFO:History:Done <ABCSMC(id=2, start_time=2019-11-25 10:14:52.000642, end_time=2019-11-25 10:16:24.342458)>\n"
     ]
    }
   ],
   "source": [
    "acceptor = pyabc.StochasticAcceptor()\n",
    "temperature = pyabc.Temperature(\n",
    "    initial_temperature=pyabc.AcceptanceRateScheme(),\n",
    "    schemes=[pyabc.AcceptanceRateScheme()],\n",
    "    enforce_exact_final_temperature=False)\n",
    "\n",
    "for pop_size in [100, 1000]:\n",
    "    # define the analysis\n",
    "    abc = pyabc.ABCSMC(\n",
    "        models=mv.get_model(),\n",
    "        parameter_priors=mv.get_prior(),\n",
    "        distance_function=mv.get_kernel(),\n",
    "        eps=temperature,\n",
    "        acceptor=acceptor,\n",
    "        population_size=pop_size)\n",
    "    history_ode = abc.new(\"sqlite:///h_cr.db\", data)\n",
    "    history_ode = abc.run(max_nr_populations=6)"
   ]
  },
  {
   "cell_type": "markdown",
   "metadata": {},
   "source": [
    "Some visualizations:"
   ]
  },
  {
   "cell_type": "code",
   "execution_count": 4,
   "metadata": {
    "scrolled": false
   },
   "outputs": [
    {
     "data": {
      "text/plain": [
       "<matplotlib.axes._subplots.AxesSubplot at 0x7f43ab554be0>"
      ]
     },
     "execution_count": 4,
     "metadata": {},
     "output_type": "execute_result"
    },
    {
     "data": {
      "image/png": "[encoded data removed]",
      "text/plain": [
       "<Figure size 288x216 with 1 Axes>"
      ]
     },
     "metadata": {
      "needs_background": "light"
     },
     "output_type": "display_data"
    },
    {
     "data": {
      "image/png": "[encoded data removed]",
      "text/plain": [
       "<Figure size 432x288 with 1 Axes>"
      ]
     },
     "metadata": {
      "needs_background": "light"
     },
     "output_type": "display_data"
    },
    {
     "data": {
      "image/png": "[encoded data removed]",
      "text/plain": [
       "<Figure size 432x288 with 1 Axes>"
      ]
     },
     "metadata": {
      "needs_background": "light"
     },
     "output_type": "display_data"
    }
   ],
   "source": [
    "pyabc.visualization.plot_acceptance_rates_trajectory(history_ode)\n",
    "\n",
    "plt.gcf().set_size_inches((4, 3))\n",
    "plt.gca().get_legend().remove()\n",
    "plt.savefig(\"acc_rate.svg\", format='svg')\n",
    "pyabc.visualization.plot_epsilons(history_ode)\n",
    "pyabc.visualization.plot_effective_sample_sizes(history_ode)"
   ]
  },
  {
   "cell_type": "markdown",
   "metadata": {},
   "source": [
    "## MJP model"
   ]
  },
  {
   "cell_type": "markdown",
   "metadata": {},
   "source": [
    "Next, let's go for an MJP model of gene expression:"
   ]
  },
  {
   "cell_type": "code",
   "execution_count": 5,
   "metadata": {},
   "outputs": [
    {
     "data": {
      "text/plain": [
       "[<matplotlib.lines.Line2D at 0x7f43ac2081d0>]"
      ]
     },
     "execution_count": 5,
     "metadata": {},
     "output_type": "execute_result"
    },
    {
     "data": {
      "image/png": "[encoded data removed]",
      "text/plain": [
       "<Figure size 432x288 with 1 Axes>"
      ]
     },
     "metadata": {
      "needs_background": "light"
     },
     "output_type": "display_data"
    }
   ],
   "source": [
    "import pyabc\n",
    "from study_abc_noise.model import MRNATranscriptionModelVars as ModelVars\n",
    "import numpy as np\n",
    "import scipy.stats as stats\n",
    "import scipy.integrate as integrate\n",
    "import matplotlib.pyplot as plt\n",
    "import logging\n",
    "%matplotlib inline\n",
    "\n",
    "# model\n",
    "mv = ModelVars(n_t=10)\n",
    "\n",
    "# data\n",
    "data = mv.get_model_noisy()(mv.p_true)\n",
    "\n",
    "# plot\n",
    "plt.plot(data['t'], data['mrna'], 'x-')"
   ]
  },
  {
   "cell_type": "code",
   "execution_count": null,
   "metadata": {},
   "outputs": [],
   "source": [
    "print(mv.p_true)"
   ]
  },
  {
   "cell_type": "code",
   "execution_count": 6,
   "metadata": {
    "scrolled": false
   },
   "outputs": [
    {
     "name": "stderr",
     "output_type": "stream",
     "text": [
      "INFO:History:Start <ABCSMC(id=1, start_time=2019-11-25 10:16:26.402543, end_time=None)>\n",
      "INFO:ABC:Calibration sample before t=0.\n",
      "DEBUG:Acceptor:pdf_norm=-6.0677e+01 for t=0.\n",
      "INFO:ABC:t: 0, eps: 1903.025677821061.\n",
      "DEBUG:Acceptor:Encountered pd=-4.8212e+01 > c=-6.0677e+01, thus weight=1.0066e+00.\n",
      "INFO:ABC:Acceptance rate: 100 / 323 = 3.0960e-01, ESS=1.0000e+02.\n",
      "DEBUG:Acceptor:pdf_norm=-4.8212e+01 for t=1.\n",
      "DEBUG:Epsilon:Proposed temperatures: [437.89648168269804].\n",
      "INFO:ABC:t: 1, eps: 437.89648168269804.\n",
      "DEBUG:Acceptor:Encountered pd=-4.4699e+01 > c=-4.8212e+01, thus weight=1.0081e+00.\n",
      "DEBUG:Acceptor:Encountered pd=-4.1948e+01 > c=-4.8212e+01, thus weight=1.0144e+00.\n",
      "DEBUG:Acceptor:Encountered pd=-3.9614e+01 > c=-4.8212e+01, thus weight=1.0198e+00.\n",
      "INFO:ABC:Acceptance rate: 100 / 384 = 2.6042e-01, ESS=8.0656e+01.\n",
      "DEBUG:Acceptor:pdf_norm=-3.9614e+01 for t=2.\n",
      "DEBUG:Epsilon:Proposed temperatures: [300.83428380983923].\n",
      "INFO:ABC:t: 2, eps: 300.83428380983923.\n",
      "INFO:ABC:Acceptance rate: 100 / 321 = 3.1153e-01, ESS=7.4256e+01.\n",
      "DEBUG:Acceptor:pdf_norm=-3.9614e+01 for t=3.\n",
      "DEBUG:Epsilon:Proposed temperatures: [288.2605529042464].\n",
      "INFO:ABC:t: 3, eps: 288.2605529042464.\n",
      "INFO:ABC:Acceptance rate: 100 / 322 = 3.1056e-01, ESS=3.3846e+01.\n",
      "DEBUG:Acceptor:pdf_norm=-3.9614e+01 for t=4.\n",
      "DEBUG:Epsilon:Proposed temperatures: [311.4481404653686].\n",
      "INFO:ABC:t: 4, eps: 288.2605529042464.\n",
      "DEBUG:Acceptor:Encountered pd=-3.0949e+01 > c=-3.9614e+01, thus weight=1.0305e+00.\n",
      "INFO:ABC:Acceptance rate: 100 / 347 = 2.8818e-01, ESS=7.3310e+01.\n",
      "DEBUG:Acceptor:pdf_norm=-3.0949e+01 for t=5.\n",
      "DEBUG:Epsilon:Proposed temperatures: [279.57794223296713].\n",
      "INFO:ABC:t: 5, eps: 279.57794223296713.\n",
      "INFO:ABC:Acceptance rate: 100 / 350 = 2.8571e-01, ESS=7.6921e+01.\n",
      "DEBUG:Acceptor:pdf_norm=-3.0949e+01 for t=6.\n",
      "DEBUG:Epsilon:Proposed temperatures: [259.7310212764899].\n",
      "INFO:History:Done <ABCSMC(id=1, start_time=2019-11-25 10:16:26.402543, end_time=2019-11-25 10:20:14.889349)>\n",
      "INFO:History:Start <ABCSMC(id=2, start_time=2019-11-25 10:20:14.937598, end_time=None)>\n",
      "INFO:ABC:Calibration sample before t=0.\n",
      "DEBUG:Acceptor:pdf_norm=-3.0949e+01 for t=0.\n",
      "DEBUG:Epsilon:Proposed temperatures: [3346.6269620837943].\n",
      "INFO:ABC:t: 0, eps: 3346.6269620837943.\n",
      "INFO:ABC:Acceptance rate: 1000 / 3021 = 3.3102e-01, ESS=1.0000e+03.\n",
      "DEBUG:Acceptor:pdf_norm=-3.0949e+01 for t=1.\n",
      "DEBUG:Epsilon:Proposed temperatures: [580.7547766983665].\n",
      "INFO:ABC:t: 1, eps: 580.7547766983665.\n",
      "INFO:ABC:Acceptance rate: 1000 / 3316 = 3.0157e-01, ESS=8.2643e+02.\n",
      "DEBUG:Acceptor:pdf_norm=-3.0949e+01 for t=2.\n",
      "DEBUG:Epsilon:Proposed temperatures: [315.81810985141635].\n",
      "INFO:ABC:t: 2, eps: 315.81810985141635.\n",
      "INFO:ABC:Acceptance rate: 1000 / 3316 = 3.0157e-01, ESS=8.2820e+02.\n",
      "DEBUG:Acceptor:pdf_norm=-3.0949e+01 for t=3.\n",
      "DEBUG:Epsilon:Proposed temperatures: [269.7903559868226].\n",
      "INFO:ABC:t: 3, eps: 269.7903559868226.\n",
      "Process Process-103:\n",
      "Process Process-101:\n",
      "Traceback (most recent call last):\n",
      "Process Process-102:\n",
      "Traceback (most recent call last):\n",
      "  File \"/home/yannik/anaconda3/lib/python3.7/multiprocessing/process.py\", line 297, in _bootstrap\n",
      "    self.run()\n",
      "  File \"/home/yannik/anaconda3/lib/python3.7/multiprocessing/process.py\", line 297, in _bootstrap\n",
      "    self.run()\n",
      "Traceback (most recent call last):\n",
      "  File \"/home/yannik/anaconda3/lib/python3.7/multiprocessing/process.py\", line 99, in run\n",
      "    self._target(*self._args, **self._kwargs)\n",
      "  File \"/home/yannik/anaconda3/lib/python3.7/multiprocessing/process.py\", line 297, in _bootstrap\n",
      "    self.run()\n",
      "  File \"/home/yannik/anaconda3/lib/python3.7/multiprocessing/process.py\", line 99, in run\n",
      "    self._target(*self._args, **self._kwargs)\n",
      "Process Process-104:\n",
      "  File \"/home/yannik/pyabc/pyabc/sampler/multicore_evaluation_parallel.py\", line 30, in work\n",
      "    new_sim = simulate_one()\n",
      "  File \"/home/yannik/pyabc/pyabc/sampler/multicore_evaluation_parallel.py\", line 30, in work\n",
      "    new_sim = simulate_one()\n",
      "  File \"/home/yannik/anaconda3/lib/python3.7/multiprocessing/process.py\", line 99, in run\n",
      "    self._target(*self._args, **self._kwargs)\n",
      "  File \"/home/yannik/pyabc/pyabc/smc.py\", line 595, in simulate_one\n",
      "    weight_function)\n",
      "  File \"/home/yannik/pyabc/pyabc/smc.py\", line 595, in simulate_one\n",
      "    weight_function)\n",
      "  File \"/home/yannik/pyabc/pyabc/sampler/multicore_evaluation_parallel.py\", line 30, in work\n",
      "    new_sim = simulate_one()\n",
      "Traceback (most recent call last):\n",
      "  File \"/home/yannik/pyabc/pyabc/smc.py\", line 680, in _evaluate_proposal\n",
      "    x_0)\n",
      "  File \"/home/yannik/pyabc/pyabc/smc.py\", line 595, in simulate_one\n",
      "    weight_function)\n",
      "  File \"/home/yannik/pyabc/pyabc/model.py\", line 227, in accept\n",
      "    sum_stats_calculator)\n",
      "  File \"/home/yannik/pyabc/pyabc/smc.py\", line 680, in _evaluate_proposal\n",
      "    x_0)\n",
      "  File \"/home/yannik/pyabc/pyabc/model.py\", line 121, in summary_statistics\n",
      "    raw_data = self.sample(pars)\n",
      "  File \"/home/yannik/pyabc/pyabc/smc.py\", line 680, in _evaluate_proposal\n",
      "    x_0)\n",
      "  File \"/home/yannik/anaconda3/lib/python3.7/multiprocessing/process.py\", line 297, in _bootstrap\n",
      "    self.run()\n",
      "  File \"/home/yannik/pyabc/pyabc/model.py\", line 227, in accept\n",
      "    sum_stats_calculator)\n",
      "  File \"/home/yannik/pyabc/pyabc/model.py\", line 121, in summary_statistics\n",
      "    raw_data = self.sample(pars)\n",
      "  File \"/home/yannik/pyabc/pyabc/model.py\", line 270, in sample\n",
      "    return self.sample_function(pars)\n",
      "  File \"/home/yannik/pyabc/pyabc/model.py\", line 270, in sample\n",
      "    return self.sample_function(pars)\n",
      "  File \"/home/yannik/pyabc/pyabc/model.py\", line 227, in accept\n",
      "    sum_stats_calculator)\n",
      "  File \"/home/yannik/anaconda3/lib/python3.7/multiprocessing/process.py\", line 99, in run\n",
      "    self._target(*self._args, **self._kwargs)\n",
      "  File \"/home/yannik/Documents/Project8_pyABC_Noise/Study-ABC-Noise/study_abc_noise/model/mrna_transcription.py\", line 66, in model\n",
      "    result = ssa_model.simulate(n_reps=1)\n",
      "  File \"/home/yannik/pyabc/pyabc/sampler/multicore_evaluation_parallel.py\", line 30, in work\n",
      "    new_sim = simulate_one()\n",
      "  File \"/home/yannik/pyabc/pyabc/model.py\", line 121, in summary_statistics\n",
      "    raw_data = self.sample(pars)\n",
      "  File \"/home/yannik/Documents/Project8_pyABC_Noise/Study-ABC-Noise/study_abc_noise/model/mrna_transcription.py\", line 66, in model\n",
      "    result = ssa_model.simulate(n_reps=1)\n",
      "  File \"/home/yannik/pyabc/pyabc/smc.py\", line 595, in simulate_one\n",
      "    weight_function)\n",
      "  File \"/home/yannik/ssa/ssa/model.py\", line 90, in simulate\n",
      "    ret = self.engine.execute(tasks)\n",
      "  File \"/home/yannik/pyabc/pyabc/smc.py\", line 680, in _evaluate_proposal\n",
      "    x_0)\n",
      "  File \"/home/yannik/pyabc/pyabc/model.py\", line 227, in accept\n",
      "    sum_stats_calculator)\n",
      "  File \"/home/yannik/ssa/ssa/model.py\", line 90, in simulate\n",
      "    ret = self.engine.execute(tasks)\n",
      "  File \"/home/yannik/pyabc/pyabc/model.py\", line 270, in sample\n",
      "    return self.sample_function(pars)\n",
      "  File \"/home/yannik/ssa/ssa/engine.py\", line 55, in execute\n",
      "    ret.append(task.execute())\n",
      "  File \"/home/yannik/ssa/ssa/engine.py\", line 24, in execute\n",
      "    return self.alg(**self.alg_args)\n",
      "  File \"/home/yannik/Documents/Project8_pyABC_Noise/Study-ABC-Noise/study_abc_noise/model/mrna_transcription.py\", line 66, in model\n",
      "    result = ssa_model.simulate(n_reps=1)\n",
      "  File \"/home/yannik/ssa/ssa/engine.py\", line 55, in execute\n",
      "    ret.append(task.execute())\n",
      "  File \"/home/yannik/pyabc/pyabc/model.py\", line 121, in summary_statistics\n",
      "    raw_data = self.sample(pars)\n",
      "  File \"/home/yannik/ssa/ssa/engine.py\", line 24, in execute\n",
      "    return self.alg(**self.alg_args)\n",
      "  File \"/home/yannik/ssa/ssa/direct.py\", line 28, in direct\n",
      "    hazards = k * (x ** reactants).prod(axis=1)\n",
      "  File \"/home/yannik/pyabc/pyabc/model.py\", line 270, in sample\n",
      "    return self.sample_function(pars)\n",
      "  File \"/home/yannik/ssa/ssa/model.py\", line 90, in simulate\n",
      "    ret = self.engine.execute(tasks)\n",
      "  File \"/home/yannik/Documents/Project8_pyABC_Noise/Study-ABC-Noise/study_abc_noise/model/mrna_transcription.py\", line 66, in model\n",
      "    result = ssa_model.simulate(n_reps=1)\n",
      "  File \"/home/yannik/anaconda3/lib/python3.7/site-packages/numpy/core/_methods.py\", line 42, in _prod\n",
      "    return umr_prod(a, axis, dtype, out, keepdims, initial, where)\n",
      "  File \"/home/yannik/ssa/ssa/direct.py\", line 40, in direct\n",
      "    delta_t = - 1.0 / h0 * np.log(np.random.uniform())\n"
     ]
    },
    {
     "name": "stderr",
     "output_type": "stream",
     "text": [
      "  File \"/home/yannik/ssa/ssa/engine.py\", line 55, in execute\n",
      "    ret.append(task.execute())\n",
      "  File \"/home/yannik/ssa/ssa/model.py\", line 90, in simulate\n",
      "    ret = self.engine.execute(tasks)\n",
      "KeyboardInterrupt\n",
      "KeyboardInterrupt\n",
      "  File \"/home/yannik/ssa/ssa/engine.py\", line 55, in execute\n",
      "    ret.append(task.execute())\n",
      "  File \"/home/yannik/ssa/ssa/engine.py\", line 24, in execute\n",
      "    return self.alg(**self.alg_args)\n",
      "  File \"/home/yannik/ssa/ssa/direct.py\", line 31, in direct\n",
      "    cdv = np.cumsum(hazards)\n",
      "  File \"/home/yannik/ssa/ssa/engine.py\", line 24, in execute\n",
      "    return self.alg(**self.alg_args)\n",
      "  File \"/home/yannik/ssa/ssa/direct.py\", line 40, in direct\n",
      "    delta_t = - 1.0 / h0 * np.log(np.random.uniform())\n",
      "  File \"<__array_function__ internals>\", line 6, in cumsum\n",
      "  File \"/home/yannik/anaconda3/lib/python3.7/site-packages/numpy/core/fromnumeric.py\", line 2423, in cumsum\n",
      "    return _wrapfunc(a, 'cumsum', axis=axis, dtype=dtype, out=out)\n",
      "  File \"/home/yannik/anaconda3/lib/python3.7/site-packages/numpy/core/fromnumeric.py\", line 61, in _wrapfunc\n",
      "    return bound(*args, **kwds)\n",
      "KeyboardInterrupt\n",
      "KeyboardInterrupt\n"
     ]
    },
    {
     "ename": "KeyboardInterrupt",
     "evalue": "",
     "output_type": "error",
     "traceback": [
      "\u001b[0;31m---------------------------------------------------------------------------\u001b[0m",
      "\u001b[0;31mKeyboardInterrupt\u001b[0m                         Traceback (most recent call last)",
      "\u001b[0;32m<ipython-input-6-e45aeb284226>\u001b[0m in \u001b[0;36m<module>\u001b[0;34m\u001b[0m\n\u001b[1;32m     15\u001b[0m         population_size=pop_size)\n\u001b[1;32m     16\u001b[0m     \u001b[0mhistory_mjp\u001b[0m \u001b[0;34m=\u001b[0m \u001b[0mabc\u001b[0m\u001b[0;34m.\u001b[0m\u001b[0mnew\u001b[0m\u001b[0;34m(\u001b[0m\u001b[0;34m\"sqlite:///h_mrna.db\"\u001b[0m\u001b[0;34m,\u001b[0m \u001b[0mdata\u001b[0m\u001b[0;34m)\u001b[0m\u001b[0;34m\u001b[0m\u001b[0;34m\u001b[0m\u001b[0m\n\u001b[0;32m---> 17\u001b[0;31m     \u001b[0mhistory_mjp\u001b[0m \u001b[0;34m=\u001b[0m \u001b[0mabc\u001b[0m\u001b[0;34m.\u001b[0m\u001b[0mrun\u001b[0m\u001b[0;34m(\u001b[0m\u001b[0mmax_nr_populations\u001b[0m\u001b[0;34m=\u001b[0m\u001b[0;36m6\u001b[0m\u001b[0;34m)\u001b[0m\u001b[0;34m\u001b[0m\u001b[0;34m\u001b[0m\u001b[0m\n\u001b[0m",
      "\u001b[0;32m~/pyabc/pyabc/smc.py\u001b[0m in \u001b[0;36mrun\u001b[0;34m(self, minimum_epsilon, max_nr_populations, min_acceptance_rate)\u001b[0m\n\u001b[1;32m    882\u001b[0m             \u001b[0;31m# perform the sampling\u001b[0m\u001b[0;34m\u001b[0m\u001b[0;34m\u001b[0m\u001b[0;34m\u001b[0m\u001b[0m\n\u001b[1;32m    883\u001b[0m             sample = self.sampler.sample_until_n_accepted(\n\u001b[0;32m--> 884\u001b[0;31m                 self.population_strategy.nr_particles, simulate_one)\n\u001b[0m\u001b[1;32m    885\u001b[0m \u001b[0;34m\u001b[0m\u001b[0m\n\u001b[1;32m    886\u001b[0m             \u001b[0;31m# retrieve accepted population\u001b[0m\u001b[0;34m\u001b[0m\u001b[0;34m\u001b[0m\u001b[0;34m\u001b[0m\u001b[0m\n",
      "\u001b[0;32m~/pyabc/pyabc/sampler/base.py\u001b[0m in \u001b[0;36msample_until_n_accepted\u001b[0;34m(self, n, simulate_one, all_accepted)\u001b[0m\n\u001b[1;32m    143\u001b[0m     \"\"\"\n\u001b[1;32m    144\u001b[0m     \u001b[0;32mdef\u001b[0m \u001b[0msample_until_n_accepted\u001b[0m\u001b[0;34m(\u001b[0m\u001b[0mself\u001b[0m\u001b[0;34m,\u001b[0m \u001b[0mn\u001b[0m\u001b[0;34m,\u001b[0m \u001b[0msimulate_one\u001b[0m\u001b[0;34m,\u001b[0m \u001b[0mall_accepted\u001b[0m\u001b[0;34m=\u001b[0m\u001b[0;32mFalse\u001b[0m\u001b[0;34m)\u001b[0m\u001b[0;34m:\u001b[0m\u001b[0;34m\u001b[0m\u001b[0;34m\u001b[0m\u001b[0m\n\u001b[0;32m--> 145\u001b[0;31m         \u001b[0msample\u001b[0m \u001b[0;34m=\u001b[0m \u001b[0mf\u001b[0m\u001b[0;34m(\u001b[0m\u001b[0mself\u001b[0m\u001b[0;34m,\u001b[0m \u001b[0mn\u001b[0m\u001b[0;34m,\u001b[0m \u001b[0msimulate_one\u001b[0m\u001b[0;34m,\u001b[0m \u001b[0mall_accepted\u001b[0m\u001b[0;34m)\u001b[0m\u001b[0;34m\u001b[0m\u001b[0;34m\u001b[0m\u001b[0m\n\u001b[0m\u001b[1;32m    146\u001b[0m         \u001b[0;32mif\u001b[0m \u001b[0msample\u001b[0m\u001b[0;34m.\u001b[0m\u001b[0mn_accepted\u001b[0m \u001b[0;34m!=\u001b[0m \u001b[0mn\u001b[0m\u001b[0;34m:\u001b[0m\u001b[0;34m\u001b[0m\u001b[0;34m\u001b[0m\u001b[0m\n\u001b[1;32m    147\u001b[0m             raise AssertionError(\n",
      "\u001b[0;32m~/pyabc/pyabc/sampler/multicore_evaluation_parallel.py\u001b[0m in \u001b[0;36msample_until_n_accepted\u001b[0;34m(self, n, simulate_one, all_accepted)\u001b[0m\n\u001b[1;32m    115\u001b[0m         \u001b[0mn_done\u001b[0m \u001b[0;34m=\u001b[0m \u001b[0;36m0\u001b[0m\u001b[0;34m\u001b[0m\u001b[0;34m\u001b[0m\u001b[0m\n\u001b[1;32m    116\u001b[0m         \u001b[0;32mwhile\u001b[0m \u001b[0mn_done\u001b[0m \u001b[0;34m<\u001b[0m \u001b[0mlen\u001b[0m\u001b[0;34m(\u001b[0m\u001b[0mprocesses\u001b[0m\u001b[0;34m)\u001b[0m\u001b[0;34m:\u001b[0m\u001b[0;34m\u001b[0m\u001b[0;34m\u001b[0m\u001b[0m\n\u001b[0;32m--> 117\u001b[0;31m             \u001b[0mval\u001b[0m \u001b[0;34m=\u001b[0m \u001b[0mget_if_worker_healthy\u001b[0m\u001b[0;34m(\u001b[0m\u001b[0mprocesses\u001b[0m\u001b[0;34m,\u001b[0m \u001b[0mqueue\u001b[0m\u001b[0;34m)\u001b[0m\u001b[0;34m\u001b[0m\u001b[0;34m\u001b[0m\u001b[0m\n\u001b[0m\u001b[1;32m    118\u001b[0m             \u001b[0;32mif\u001b[0m \u001b[0mval\u001b[0m \u001b[0;34m==\u001b[0m \u001b[0mDONE\u001b[0m\u001b[0;34m:\u001b[0m\u001b[0;34m\u001b[0m\u001b[0;34m\u001b[0m\u001b[0m\n\u001b[1;32m    119\u001b[0m                 \u001b[0mn_done\u001b[0m \u001b[0;34m+=\u001b[0m \u001b[0;36m1\u001b[0m\u001b[0;34m\u001b[0m\u001b[0;34m\u001b[0m\u001b[0m\n",
      "\u001b[0;32m~/pyabc/pyabc/sampler/multicorebase.py\u001b[0m in \u001b[0;36mget_if_worker_healthy\u001b[0;34m(workers, queue)\u001b[0m\n\u001b[1;32m     51\u001b[0m     \u001b[0;32mwhile\u001b[0m \u001b[0;32mTrue\u001b[0m\u001b[0;34m:\u001b[0m\u001b[0;34m\u001b[0m\u001b[0;34m\u001b[0m\u001b[0m\n\u001b[1;32m     52\u001b[0m         \u001b[0;32mtry\u001b[0m\u001b[0;34m:\u001b[0m\u001b[0;34m\u001b[0m\u001b[0;34m\u001b[0m\u001b[0m\n\u001b[0;32m---> 53\u001b[0;31m             \u001b[0mitem\u001b[0m \u001b[0;34m=\u001b[0m \u001b[0mqueue\u001b[0m\u001b[0;34m.\u001b[0m\u001b[0mget\u001b[0m\u001b[0;34m(\u001b[0m\u001b[0;32mTrue\u001b[0m\u001b[0;34m,\u001b[0m \u001b[0;36m5\u001b[0m\u001b[0;34m)\u001b[0m\u001b[0;34m\u001b[0m\u001b[0;34m\u001b[0m\u001b[0m\n\u001b[0m\u001b[1;32m     54\u001b[0m             \u001b[0;32mreturn\u001b[0m \u001b[0mitem\u001b[0m\u001b[0;34m\u001b[0m\u001b[0;34m\u001b[0m\u001b[0m\n\u001b[1;32m     55\u001b[0m         \u001b[0;32mexcept\u001b[0m \u001b[0mEmpty\u001b[0m\u001b[0;34m:\u001b[0m\u001b[0;34m\u001b[0m\u001b[0;34m\u001b[0m\u001b[0m\n",
      "\u001b[0;32m~/anaconda3/lib/python3.7/multiprocessing/queues.py\u001b[0m in \u001b[0;36mget\u001b[0;34m(self, block, timeout)\u001b[0m\n\u001b[1;32m    102\u001b[0m                 \u001b[0;32mif\u001b[0m \u001b[0mblock\u001b[0m\u001b[0;34m:\u001b[0m\u001b[0;34m\u001b[0m\u001b[0;34m\u001b[0m\u001b[0m\n\u001b[1;32m    103\u001b[0m                     \u001b[0mtimeout\u001b[0m \u001b[0;34m=\u001b[0m \u001b[0mdeadline\u001b[0m \u001b[0;34m-\u001b[0m \u001b[0mtime\u001b[0m\u001b[0;34m.\u001b[0m\u001b[0mmonotonic\u001b[0m\u001b[0;34m(\u001b[0m\u001b[0;34m)\u001b[0m\u001b[0;34m\u001b[0m\u001b[0;34m\u001b[0m\u001b[0m\n\u001b[0;32m--> 104\u001b[0;31m                     \u001b[0;32mif\u001b[0m \u001b[0;32mnot\u001b[0m \u001b[0mself\u001b[0m\u001b[0;34m.\u001b[0m\u001b[0m_poll\u001b[0m\u001b[0;34m(\u001b[0m\u001b[0mtimeout\u001b[0m\u001b[0;34m)\u001b[0m\u001b[0;34m:\u001b[0m\u001b[0;34m\u001b[0m\u001b[0;34m\u001b[0m\u001b[0m\n\u001b[0m\u001b[1;32m    105\u001b[0m                         \u001b[0;32mraise\u001b[0m \u001b[0mEmpty\u001b[0m\u001b[0;34m\u001b[0m\u001b[0;34m\u001b[0m\u001b[0m\n\u001b[1;32m    106\u001b[0m                 \u001b[0;32melif\u001b[0m \u001b[0;32mnot\u001b[0m \u001b[0mself\u001b[0m\u001b[0;34m.\u001b[0m\u001b[0m_poll\u001b[0m\u001b[0;34m(\u001b[0m\u001b[0;34m)\u001b[0m\u001b[0;34m:\u001b[0m\u001b[0;34m\u001b[0m\u001b[0;34m\u001b[0m\u001b[0m\n",
      "\u001b[0;32m~/anaconda3/lib/python3.7/multiprocessing/connection.py\u001b[0m in \u001b[0;36mpoll\u001b[0;34m(self, timeout)\u001b[0m\n\u001b[1;32m    255\u001b[0m         \u001b[0mself\u001b[0m\u001b[0;34m.\u001b[0m\u001b[0m_check_closed\u001b[0m\u001b[0;34m(\u001b[0m\u001b[0;34m)\u001b[0m\u001b[0;34m\u001b[0m\u001b[0;34m\u001b[0m\u001b[0m\n\u001b[1;32m    256\u001b[0m         \u001b[0mself\u001b[0m\u001b[0;34m.\u001b[0m\u001b[0m_check_readable\u001b[0m\u001b[0;34m(\u001b[0m\u001b[0;34m)\u001b[0m\u001b[0;34m\u001b[0m\u001b[0;34m\u001b[0m\u001b[0m\n\u001b[0;32m--> 257\u001b[0;31m         \u001b[0;32mreturn\u001b[0m \u001b[0mself\u001b[0m\u001b[0;34m.\u001b[0m\u001b[0m_poll\u001b[0m\u001b[0;34m(\u001b[0m\u001b[0mtimeout\u001b[0m\u001b[0;34m)\u001b[0m\u001b[0;34m\u001b[0m\u001b[0;34m\u001b[0m\u001b[0m\n\u001b[0m\u001b[1;32m    258\u001b[0m \u001b[0;34m\u001b[0m\u001b[0m\n\u001b[1;32m    259\u001b[0m     \u001b[0;32mdef\u001b[0m \u001b[0m__enter__\u001b[0m\u001b[0;34m(\u001b[0m\u001b[0mself\u001b[0m\u001b[0;34m)\u001b[0m\u001b[0;34m:\u001b[0m\u001b[0;34m\u001b[0m\u001b[0;34m\u001b[0m\u001b[0m\n",
      "\u001b[0;32m~/anaconda3/lib/python3.7/multiprocessing/connection.py\u001b[0m in \u001b[0;36m_poll\u001b[0;34m(self, timeout)\u001b[0m\n\u001b[1;32m    412\u001b[0m \u001b[0;34m\u001b[0m\u001b[0m\n\u001b[1;32m    413\u001b[0m     \u001b[0;32mdef\u001b[0m \u001b[0m_poll\u001b[0m\u001b[0;34m(\u001b[0m\u001b[0mself\u001b[0m\u001b[0;34m,\u001b[0m \u001b[0mtimeout\u001b[0m\u001b[0;34m)\u001b[0m\u001b[0;34m:\u001b[0m\u001b[0;34m\u001b[0m\u001b[0;34m\u001b[0m\u001b[0m\n\u001b[0;32m--> 414\u001b[0;31m         \u001b[0mr\u001b[0m \u001b[0;34m=\u001b[0m \u001b[0mwait\u001b[0m\u001b[0;34m(\u001b[0m\u001b[0;34m[\u001b[0m\u001b[0mself\u001b[0m\u001b[0;34m]\u001b[0m\u001b[0;34m,\u001b[0m \u001b[0mtimeout\u001b[0m\u001b[0;34m)\u001b[0m\u001b[0;34m\u001b[0m\u001b[0;34m\u001b[0m\u001b[0m\n\u001b[0m\u001b[1;32m    415\u001b[0m         \u001b[0;32mreturn\u001b[0m \u001b[0mbool\u001b[0m\u001b[0;34m(\u001b[0m\u001b[0mr\u001b[0m\u001b[0;34m)\u001b[0m\u001b[0;34m\u001b[0m\u001b[0;34m\u001b[0m\u001b[0m\n\u001b[1;32m    416\u001b[0m \u001b[0;34m\u001b[0m\u001b[0m\n",
      "\u001b[0;32m~/anaconda3/lib/python3.7/multiprocessing/connection.py\u001b[0m in \u001b[0;36mwait\u001b[0;34m(object_list, timeout)\u001b[0m\n\u001b[1;32m    918\u001b[0m \u001b[0;34m\u001b[0m\u001b[0m\n\u001b[1;32m    919\u001b[0m             \u001b[0;32mwhile\u001b[0m \u001b[0;32mTrue\u001b[0m\u001b[0;34m:\u001b[0m\u001b[0;34m\u001b[0m\u001b[0;34m\u001b[0m\u001b[0m\n\u001b[0;32m--> 920\u001b[0;31m                 \u001b[0mready\u001b[0m \u001b[0;34m=\u001b[0m \u001b[0mselector\u001b[0m\u001b[0;34m.\u001b[0m\u001b[0mselect\u001b[0m\u001b[0;34m(\u001b[0m\u001b[0mtimeout\u001b[0m\u001b[0;34m)\u001b[0m\u001b[0;34m\u001b[0m\u001b[0;34m\u001b[0m\u001b[0m\n\u001b[0m\u001b[1;32m    921\u001b[0m                 \u001b[0;32mif\u001b[0m \u001b[0mready\u001b[0m\u001b[0;34m:\u001b[0m\u001b[0;34m\u001b[0m\u001b[0;34m\u001b[0m\u001b[0m\n\u001b[1;32m    922\u001b[0m                     \u001b[0;32mreturn\u001b[0m \u001b[0;34m[\u001b[0m\u001b[0mkey\u001b[0m\u001b[0;34m.\u001b[0m\u001b[0mfileobj\u001b[0m \u001b[0;32mfor\u001b[0m \u001b[0;34m(\u001b[0m\u001b[0mkey\u001b[0m\u001b[0;34m,\u001b[0m \u001b[0mevents\u001b[0m\u001b[0;34m)\u001b[0m \u001b[0;32min\u001b[0m \u001b[0mready\u001b[0m\u001b[0;34m]\u001b[0m\u001b[0;34m\u001b[0m\u001b[0;34m\u001b[0m\u001b[0m\n",
      "\u001b[0;32m~/anaconda3/lib/python3.7/selectors.py\u001b[0m in \u001b[0;36mselect\u001b[0;34m(self, timeout)\u001b[0m\n\u001b[1;32m    413\u001b[0m         \u001b[0mready\u001b[0m \u001b[0;34m=\u001b[0m \u001b[0;34m[\u001b[0m\u001b[0;34m]\u001b[0m\u001b[0;34m\u001b[0m\u001b[0;34m\u001b[0m\u001b[0m\n\u001b[1;32m    414\u001b[0m         \u001b[0;32mtry\u001b[0m\u001b[0;34m:\u001b[0m\u001b[0;34m\u001b[0m\u001b[0;34m\u001b[0m\u001b[0m\n\u001b[0;32m--> 415\u001b[0;31m             \u001b[0mfd_event_list\u001b[0m \u001b[0;34m=\u001b[0m \u001b[0mself\u001b[0m\u001b[0;34m.\u001b[0m\u001b[0m_selector\u001b[0m\u001b[0;34m.\u001b[0m\u001b[0mpoll\u001b[0m\u001b[0;34m(\u001b[0m\u001b[0mtimeout\u001b[0m\u001b[0;34m)\u001b[0m\u001b[0;34m\u001b[0m\u001b[0;34m\u001b[0m\u001b[0m\n\u001b[0m\u001b[1;32m    416\u001b[0m         \u001b[0;32mexcept\u001b[0m \u001b[0mInterruptedError\u001b[0m\u001b[0;34m:\u001b[0m\u001b[0;34m\u001b[0m\u001b[0;34m\u001b[0m\u001b[0m\n\u001b[1;32m    417\u001b[0m             \u001b[0;32mreturn\u001b[0m \u001b[0mready\u001b[0m\u001b[0;34m\u001b[0m\u001b[0;34m\u001b[0m\u001b[0m\n",
      "\u001b[0;31mKeyboardInterrupt\u001b[0m: "
     ]
    }
   ],
   "source": [
    "acceptor = pyabc.StochasticAcceptor()\n",
    "temperature = pyabc.Temperature(\n",
    "    initial_temperature=pyabc.AcceptanceRateScheme(),\n",
    "    schemes=[pyabc.AcceptanceRateScheme()],\n",
    "    enforce_exact_final_temperature=False)\n",
    "\n",
    "# define the analysis\n",
    "for pop_size in [100, 1000]:\n",
    "    abc = pyabc.ABCSMC(\n",
    "        models=mv.get_model(),\n",
    "        parameter_priors=mv.get_prior(),\n",
    "        distance_function=mv.get_kernel(),\n",
    "        eps=temperature,\n",
    "        acceptor=acceptor,\n",
    "        population_size=pop_size)\n",
    "    history_mjp = abc.new(\"sqlite:///h_mrna.db\", data)\n",
    "    history_mjp = abc.run(max_nr_populations=6)"
   ]
  },
  {
   "cell_type": "code",
   "execution_count": null,
   "metadata": {},
   "outputs": [],
   "source": [
    "pyabc.visualization.plot_acceptance_rates_trajectory(history_mjp)\n",
    "pyabc.visualization.plot_epsilons(history_mjp, scale=\"log10\")\n",
    "pyabc.visualization.plot_effective_sample_sizes(history_mjp)"
   ]
  },
  {
   "cell_type": "markdown",
   "metadata": {},
   "source": [
    "## SDE model"
   ]
  },
  {
   "cell_type": "markdown",
   "metadata": {},
   "source": [
    "Next, we consider an SDE model of ion channel activation:"
   ]
  },
  {
   "cell_type": "code",
   "execution_count": 1,
   "metadata": {
    "scrolled": false
   },
   "outputs": [
    {
     "data": {
      "text/plain": [
       "[<matplotlib.lines.Line2D at 0x7f88ed9dc748>]"
      ]
     },
     "execution_count": 1,
     "metadata": {},
     "output_type": "execute_result"
    },
    {
     "data": {
      "image/png": "[encoded data removed]",
      "text/plain": [
       "<Figure size 432x288 with 1 Axes>"
      ]
     },
     "metadata": {
      "needs_background": "light"
     },
     "output_type": "display_data"
    }
   ],
   "source": [
    "import pyabc\n",
    "from study_abc_noise.model import HodgkinHuxleyModelVars as ModelVars\n",
    "import numpy as np\n",
    "import scipy.stats as stats\n",
    "import scipy.integrate as integrate\n",
    "import matplotlib.pyplot as plt\n",
    "import logging\n",
    "%matplotlib inline\n",
    "\n",
    "# for debugging\n",
    "df_logger = logging.getLogger('Distance')\n",
    "df_logger.setLevel(logging.DEBUG)\n",
    "df_logger = logging.getLogger('Acceptor')\n",
    "df_logger.setLevel(logging.DEBUG)\n",
    "df_logger = logging.getLogger('Epsilon')\n",
    "df_logger.setLevel(logging.DEBUG)\n",
    "\n",
    "# model\n",
    "mv = ModelVars(n_t=100)\n",
    "\n",
    "# data\n",
    "data = mv.get_model_noisy()(mv.p_true)\n",
    "\n",
    "plt.plot(data['K'], 'x-')"
   ]
  },
  {
   "cell_type": "code",
   "execution_count": 2,
   "metadata": {},
   "outputs": [
    {
     "name": "stdout",
     "output_type": "stream",
     "text": [
      "{'dc': 20, 'membrane_dim': 10}\n"
     ]
    }
   ],
   "source": [
    "print(mv.p_true)"
   ]
  },
  {
   "cell_type": "code",
   "execution_count": 4,
   "metadata": {
    "scrolled": false
   },
   "outputs": [
    {
     "name": "stderr",
     "output_type": "stream",
     "text": [
      "INFO:History:Start <ABCSMC(id=1, start_time=2019-11-25 10:41:40.264433, end_time=None)>\n",
      "INFO:ABC:Calibration sample before t=0.\n",
      "DEBUG:Acceptor:pdf_norm=1.5231e+02 for t=0.\n",
      "INFO:ABC:t: 0, eps: 205.9692817994543.\n",
      "DEBUG:Acceptor:Encountered pd=1.5497e+02 > c=1.5231e+02, thus weight=1.0130e+00.\n",
      "DEBUG:Acceptor:Encountered pd=1.5238e+02 > c=1.5231e+02, thus weight=1.0003e+00.\n",
      "INFO:ABC:Acceptance rate: 100 / 315 = 3.1746e-01, ESS=1.0000e+02.\n",
      "DEBUG:Acceptor:pdf_norm=1.5497e+02 for t=1.\n",
      "DEBUG:Epsilon:Proposed temperatures: [156.35345166769503].\n",
      "INFO:ABC:t: 1, eps: 156.35345166769503.\n",
      "DEBUG:Acceptor:Encountered pd=1.5558e+02 > c=1.5497e+02, thus weight=1.0039e+00.\n",
      "DEBUG:Acceptor:Encountered pd=1.5503e+02 > c=1.5497e+02, thus weight=1.0004e+00.\n",
      "DEBUG:Acceptor:Encountered pd=1.5549e+02 > c=1.5497e+02, thus weight=1.0033e+00.\n",
      "DEBUG:Acceptor:Encountered pd=1.5532e+02 > c=1.5497e+02, thus weight=1.0023e+00.\n",
      "INFO:ABC:Acceptance rate: 100 / 366 = 2.7322e-01, ESS=7.4526e+01.\n",
      "DEBUG:Acceptor:pdf_norm=1.5558e+02 for t=2.\n",
      "DEBUG:Epsilon:Proposed temperatures: [172.44610477954436].\n",
      "INFO:ABC:t: 2, eps: 156.35345166769503.\n",
      "INFO:ABC:Acceptance rate: 100 / 408 = 2.4510e-01, ESS=6.2755e+01.\n",
      "DEBUG:Acceptor:pdf_norm=1.5558e+02 for t=3.\n",
      "DEBUG:Epsilon:Proposed temperatures: [185.71025452546115].\n",
      "INFO:ABC:t: 3, eps: 156.35345166769503.\n",
      "DEBUG:Acceptor:Encountered pd=1.5588e+02 > c=1.5558e+02, thus weight=1.0020e+00.\n",
      "INFO:ABC:Acceptance rate: 100 / 453 = 2.2075e-01, ESS=8.3717e+01.\n",
      "DEBUG:Acceptor:pdf_norm=1.5588e+02 for t=4.\n",
      "DEBUG:Epsilon:Proposed temperatures: [181.6680036823604].\n",
      "INFO:ABC:t: 4, eps: 156.35345166769503.\n",
      "INFO:ABC:Acceptance rate: 100 / 352 = 2.8409e-01, ESS=7.2562e+01.\n",
      "DEBUG:Acceptor:pdf_norm=1.5588e+02 for t=5.\n",
      "DEBUG:Epsilon:Proposed temperatures: [166.98731972484683].\n",
      "INFO:ABC:t: 5, eps: 156.35345166769503.\n",
      "DEBUG:Acceptor:Encountered pd=1.5602e+02 > c=1.5588e+02, thus weight=1.0008e+00.\n",
      "INFO:ABC:Acceptance rate: 100 / 365 = 2.7397e-01, ESS=6.8596e+01.\n",
      "DEBUG:Acceptor:pdf_norm=1.5602e+02 for t=6.\n",
      "DEBUG:Epsilon:Proposed temperatures: [192.33315059894167].\n",
      "INFO:History:Done <ABCSMC(id=1, start_time=2019-11-25 10:41:40.264433, end_time=2019-11-25 10:47:00.513343)>\n",
      "INFO:History:Start <ABCSMC(id=2, start_time=2019-11-25 10:47:00.542944, end_time=None)>\n",
      "INFO:ABC:Calibration sample before t=0.\n",
      "DEBUG:Acceptor:pdf_norm=1.5602e+02 for t=0.\n",
      "DEBUG:Epsilon:Proposed temperatures: [206.10289519153454].\n",
      "INFO:ABC:t: 0, eps: 206.10289519153454.\n",
      "INFO:ABC:Acceptance rate: 1000 / 3358 = 2.9780e-01, ESS=1.0000e+03.\n",
      "DEBUG:Acceptor:pdf_norm=1.5602e+02 for t=1.\n",
      "DEBUG:Epsilon:Proposed temperatures: [179.68702599017033].\n",
      "INFO:ABC:t: 1, eps: 179.68702599017033.\n",
      "DEBUG:Acceptor:Encountered pd=1.5608e+02 > c=1.5602e+02, thus weight=1.0003e+00.\n",
      "DEBUG:Acceptor:Encountered pd=1.5608e+02 > c=1.5602e+02, thus weight=1.0003e+00.\n",
      "DEBUG:Acceptor:Encountered pd=1.5605e+02 > c=1.5602e+02, thus weight=1.0002e+00.\n",
      "DEBUG:Acceptor:Encountered pd=1.5602e+02 > c=1.5602e+02, thus weight=1.0000e+00.\n",
      "INFO:ABC:Acceptance rate: 1000 / 3424 = 2.9206e-01, ESS=7.9274e+02.\n",
      "DEBUG:Acceptor:pdf_norm=1.5608e+02 for t=2.\n",
      "DEBUG:Epsilon:Proposed temperatures: [167.10423731171218].\n",
      "INFO:ABC:t: 2, eps: 167.10423731171218.\n",
      "DEBUG:Acceptor:Encountered pd=1.5609e+02 > c=1.5608e+02, thus weight=1.0001e+00.\n",
      "INFO:ABC:Acceptance rate: 1000 / 3369 = 2.9682e-01, ESS=7.4670e+02.\n",
      "DEBUG:Acceptor:pdf_norm=1.5609e+02 for t=3.\n",
      "DEBUG:Epsilon:Proposed temperatures: [162.40623599914284].\n",
      "INFO:ABC:t: 3, eps: 162.40623599914284.\n",
      "Process Process-47:\n",
      "Process Process-48:\n",
      "Process Process-46:\n",
      "Process Process-45:\n",
      "Traceback (most recent call last):\n",
      "Traceback (most recent call last):\n",
      "Traceback (most recent call last):\n",
      "Traceback (most recent call last):\n",
      "  File \"/home/yannik/anaconda3/lib/python3.7/multiprocessing/process.py\", line 297, in _bootstrap\n",
      "    self.run()\n",
      "  File \"/home/yannik/anaconda3/lib/python3.7/multiprocessing/process.py\", line 297, in _bootstrap\n",
      "    self.run()\n",
      "  File \"/home/yannik/anaconda3/lib/python3.7/multiprocessing/process.py\", line 99, in run\n",
      "    self._target(*self._args, **self._kwargs)\n",
      "  File \"/home/yannik/anaconda3/lib/python3.7/multiprocessing/process.py\", line 297, in _bootstrap\n",
      "    self.run()\n",
      "  File \"/home/yannik/anaconda3/lib/python3.7/multiprocessing/process.py\", line 297, in _bootstrap\n",
      "    self.run()\n",
      "  File \"/home/yannik/anaconda3/lib/python3.7/multiprocessing/process.py\", line 99, in run\n",
      "    self._target(*self._args, **self._kwargs)\n",
      "  File \"/home/yannik/pyabc/pyabc/sampler/multicore_evaluation_parallel.py\", line 30, in work\n",
      "    new_sim = simulate_one()\n",
      "  File \"/home/yannik/anaconda3/lib/python3.7/multiprocessing/process.py\", line 99, in run\n",
      "    self._target(*self._args, **self._kwargs)\n",
      "  File \"/home/yannik/pyabc/pyabc/sampler/multicore_evaluation_parallel.py\", line 30, in work\n",
      "    new_sim = simulate_one()\n",
      "  File \"/home/yannik/pyabc/pyabc/sampler/multicore_evaluation_parallel.py\", line 30, in work\n",
      "    new_sim = simulate_one()\n",
      "  File \"/home/yannik/pyabc/pyabc/smc.py\", line 595, in simulate_one\n",
      "    weight_function)\n",
      "  File \"/home/yannik/pyabc/pyabc/smc.py\", line 595, in simulate_one\n",
      "    weight_function)\n",
      "  File \"/home/yannik/pyabc/pyabc/smc.py\", line 680, in _evaluate_proposal\n",
      "    x_0)\n",
      "  File \"/home/yannik/pyabc/pyabc/smc.py\", line 595, in simulate_one\n",
      "    weight_function)\n",
      "  File \"/home/yannik/anaconda3/lib/python3.7/multiprocessing/process.py\", line 99, in run\n",
      "    self._target(*self._args, **self._kwargs)\n",
      "  File \"/home/yannik/pyabc/pyabc/smc.py\", line 680, in _evaluate_proposal\n",
      "    x_0)\n",
      "  File \"/home/yannik/pyabc/pyabc/smc.py\", line 680, in _evaluate_proposal\n",
      "    x_0)\n",
      "  File \"/home/yannik/pyabc/pyabc/model.py\", line 227, in accept\n",
      "    sum_stats_calculator)\n",
      "  File \"/home/yannik/pyabc/pyabc/sampler/multicore_evaluation_parallel.py\", line 30, in work\n",
      "    new_sim = simulate_one()\n",
      "  File \"/home/yannik/pyabc/pyabc/model.py\", line 227, in accept\n",
      "    sum_stats_calculator)\n",
      "  File \"/home/yannik/pyabc/pyabc/model.py\", line 227, in accept\n",
      "    sum_stats_calculator)\n",
      "  File \"/home/yannik/pyabc/pyabc/model.py\", line 121, in summary_statistics\n",
      "    raw_data = self.sample(pars)\n",
      "  File \"/home/yannik/pyabc/pyabc/model.py\", line 270, in sample\n",
      "    return self.sample_function(pars)\n",
      "  File \"/home/yannik/pyabc/pyabc/model.py\", line 121, in summary_statistics\n",
      "    raw_data = self.sample(pars)\n",
      "  File \"/home/yannik/pyabc/pyabc/smc.py\", line 595, in simulate_one\n",
      "    weight_function)\n",
      "  File \"/home/yannik/pyabc/pyabc/model.py\", line 270, in sample\n",
      "    return self.sample_function(pars)\n",
      "  File \"/home/yannik/Documents/Project8_pyABC_Noise/Study-ABC-Noise/study_abc_noise/model/hodgkin_huxley.py\", line 55, in model\n",
      "    val = simulate(**p, executable=self.executable)\n",
      "  File \"/home/yannik/pyabc/pyabc/model.py\", line 121, in summary_statistics\n",
      "    raw_data = self.sample(pars)\n",
      "  File \"/home/yannik/pyabc/pyabc/smc.py\", line 680, in _evaluate_proposal\n",
      "    x_0)\n",
      "  File \"/home/yannik/Documents/Project8_pyABC_Noise/Study-ABC-Noise/study_abc_noise/model/hodgkin_huxley.py\", line 116, in simulate\n",
      "    stdout=subprocess.PIPE)\n",
      "  File \"/home/yannik/pyabc/pyabc/model.py\", line 227, in accept\n",
      "    sum_stats_calculator)\n",
      "  File \"/home/yannik/Documents/Project8_pyABC_Noise/Study-ABC-Noise/study_abc_noise/model/hodgkin_huxley.py\", line 55, in model\n",
      "    val = simulate(**p, executable=self.executable)\n",
      "  File \"/home/yannik/pyabc/pyabc/model.py\", line 270, in sample\n",
      "    return self.sample_function(pars)\n",
      "  File \"/home/yannik/Documents/Project8_pyABC_Noise/Study-ABC-Noise/study_abc_noise/model/hodgkin_huxley.py\", line 116, in simulate\n",
      "    stdout=subprocess.PIPE)\n",
      "  File \"/home/yannik/anaconda3/lib/python3.7/subprocess.py\", line 474, in run\n",
      "    stdout, stderr = process.communicate(input, timeout=timeout)\n",
      "  File \"/home/yannik/anaconda3/lib/python3.7/subprocess.py\", line 474, in run\n",
      "    stdout, stderr = process.communicate(input, timeout=timeout)\n",
      "  File \"/home/yannik/anaconda3/lib/python3.7/subprocess.py\", line 926, in communicate\n",
      "    stdout = self.stdout.read()\n",
      "  File \"/home/yannik/Documents/Project8_pyABC_Noise/Study-ABC-Noise/study_abc_noise/model/hodgkin_huxley.py\", line 55, in model\n",
      "    val = simulate(**p, executable=self.executable)\n",
      "KeyboardInterrupt\n",
      "  File \"/home/yannik/anaconda3/lib/python3.7/subprocess.py\", line 926, in communicate\n",
      "    stdout = self.stdout.read()\n"
     ]
    },
    {
     "name": "stderr",
     "output_type": "stream",
     "text": [
      "  File \"/home/yannik/pyabc/pyabc/model.py\", line 121, in summary_statistics\n",
      "    raw_data = self.sample(pars)\n",
      "  File \"/home/yannik/Documents/Project8_pyABC_Noise/Study-ABC-Noise/study_abc_noise/model/hodgkin_huxley.py\", line 116, in simulate\n",
      "    stdout=subprocess.PIPE)\n",
      "KeyboardInterrupt\n",
      "  File \"/home/yannik/pyabc/pyabc/model.py\", line 270, in sample\n",
      "    return self.sample_function(pars)\n",
      "  File \"/home/yannik/anaconda3/lib/python3.7/subprocess.py\", line 474, in run\n",
      "    stdout, stderr = process.communicate(input, timeout=timeout)\n",
      "  File \"/home/yannik/Documents/Project8_pyABC_Noise/Study-ABC-Noise/study_abc_noise/model/hodgkin_huxley.py\", line 55, in model\n",
      "    val = simulate(**p, executable=self.executable)\n",
      "  File \"/home/yannik/anaconda3/lib/python3.7/subprocess.py\", line 926, in communicate\n",
      "    stdout = self.stdout.read()\n",
      "KeyboardInterrupt\n",
      "  File \"/home/yannik/Documents/Project8_pyABC_Noise/Study-ABC-Noise/study_abc_noise/model/hodgkin_huxley.py\", line 116, in simulate\n",
      "    stdout=subprocess.PIPE)\n",
      "  File \"/home/yannik/anaconda3/lib/python3.7/subprocess.py\", line 474, in run\n",
      "    stdout, stderr = process.communicate(input, timeout=timeout)\n",
      "  File \"/home/yannik/anaconda3/lib/python3.7/subprocess.py\", line 926, in communicate\n",
      "    stdout = self.stdout.read()\n",
      "KeyboardInterrupt\n"
     ]
    },
    {
     "ename": "KeyboardInterrupt",
     "evalue": "",
     "output_type": "error",
     "traceback": [
      "\u001b[0;31m---------------------------------------------------------------------------\u001b[0m",
      "\u001b[0;31mKeyboardInterrupt\u001b[0m                         Traceback (most recent call last)",
      "\u001b[0;32m<ipython-input-4-f217e3399ce6>\u001b[0m in \u001b[0;36m<module>\u001b[0;34m\u001b[0m\n\u001b[1;32m     15\u001b[0m         population_size=pop_size)\n\u001b[1;32m     16\u001b[0m     \u001b[0mhistory_sde\u001b[0m \u001b[0;34m=\u001b[0m \u001b[0mabc\u001b[0m\u001b[0;34m.\u001b[0m\u001b[0mnew\u001b[0m\u001b[0;34m(\u001b[0m\u001b[0;34m\"sqlite:///h_hh.db\"\u001b[0m\u001b[0;34m,\u001b[0m \u001b[0mdata\u001b[0m\u001b[0;34m)\u001b[0m\u001b[0;34m\u001b[0m\u001b[0;34m\u001b[0m\u001b[0m\n\u001b[0;32m---> 17\u001b[0;31m     \u001b[0mhistory_sde\u001b[0m \u001b[0;34m=\u001b[0m \u001b[0mabc\u001b[0m\u001b[0;34m.\u001b[0m\u001b[0mrun\u001b[0m\u001b[0;34m(\u001b[0m\u001b[0mmax_nr_populations\u001b[0m\u001b[0;34m=\u001b[0m\u001b[0;36m6\u001b[0m\u001b[0;34m)\u001b[0m\u001b[0;34m\u001b[0m\u001b[0;34m\u001b[0m\u001b[0m\n\u001b[0m",
      "\u001b[0;32m~/pyabc/pyabc/smc.py\u001b[0m in \u001b[0;36mrun\u001b[0;34m(self, minimum_epsilon, max_nr_populations, min_acceptance_rate)\u001b[0m\n\u001b[1;32m    882\u001b[0m             \u001b[0;31m# perform the sampling\u001b[0m\u001b[0;34m\u001b[0m\u001b[0;34m\u001b[0m\u001b[0;34m\u001b[0m\u001b[0m\n\u001b[1;32m    883\u001b[0m             sample = self.sampler.sample_until_n_accepted(\n\u001b[0;32m--> 884\u001b[0;31m                 self.population_strategy.nr_particles, simulate_one)\n\u001b[0m\u001b[1;32m    885\u001b[0m \u001b[0;34m\u001b[0m\u001b[0m\n\u001b[1;32m    886\u001b[0m             \u001b[0;31m# retrieve accepted population\u001b[0m\u001b[0;34m\u001b[0m\u001b[0;34m\u001b[0m\u001b[0;34m\u001b[0m\u001b[0m\n",
      "\u001b[0;32m~/pyabc/pyabc/sampler/base.py\u001b[0m in \u001b[0;36msample_until_n_accepted\u001b[0;34m(self, n, simulate_one, all_accepted)\u001b[0m\n\u001b[1;32m    143\u001b[0m     \"\"\"\n\u001b[1;32m    144\u001b[0m     \u001b[0;32mdef\u001b[0m \u001b[0msample_until_n_accepted\u001b[0m\u001b[0;34m(\u001b[0m\u001b[0mself\u001b[0m\u001b[0;34m,\u001b[0m \u001b[0mn\u001b[0m\u001b[0;34m,\u001b[0m \u001b[0msimulate_one\u001b[0m\u001b[0;34m,\u001b[0m \u001b[0mall_accepted\u001b[0m\u001b[0;34m=\u001b[0m\u001b[0;32mFalse\u001b[0m\u001b[0;34m)\u001b[0m\u001b[0;34m:\u001b[0m\u001b[0;34m\u001b[0m\u001b[0;34m\u001b[0m\u001b[0m\n\u001b[0;32m--> 145\u001b[0;31m         \u001b[0msample\u001b[0m \u001b[0;34m=\u001b[0m \u001b[0mf\u001b[0m\u001b[0;34m(\u001b[0m\u001b[0mself\u001b[0m\u001b[0;34m,\u001b[0m \u001b[0mn\u001b[0m\u001b[0;34m,\u001b[0m \u001b[0msimulate_one\u001b[0m\u001b[0;34m,\u001b[0m \u001b[0mall_accepted\u001b[0m\u001b[0;34m)\u001b[0m\u001b[0;34m\u001b[0m\u001b[0;34m\u001b[0m\u001b[0m\n\u001b[0m\u001b[1;32m    146\u001b[0m         \u001b[0;32mif\u001b[0m \u001b[0msample\u001b[0m\u001b[0;34m.\u001b[0m\u001b[0mn_accepted\u001b[0m \u001b[0;34m!=\u001b[0m \u001b[0mn\u001b[0m\u001b[0;34m:\u001b[0m\u001b[0;34m\u001b[0m\u001b[0;34m\u001b[0m\u001b[0m\n\u001b[1;32m    147\u001b[0m             raise AssertionError(\n",
      "\u001b[0;32m~/pyabc/pyabc/sampler/multicore_evaluation_parallel.py\u001b[0m in \u001b[0;36msample_until_n_accepted\u001b[0;34m(self, n, simulate_one, all_accepted)\u001b[0m\n\u001b[1;32m    115\u001b[0m         \u001b[0mn_done\u001b[0m \u001b[0;34m=\u001b[0m \u001b[0;36m0\u001b[0m\u001b[0;34m\u001b[0m\u001b[0;34m\u001b[0m\u001b[0m\n\u001b[1;32m    116\u001b[0m         \u001b[0;32mwhile\u001b[0m \u001b[0mn_done\u001b[0m \u001b[0;34m<\u001b[0m \u001b[0mlen\u001b[0m\u001b[0;34m(\u001b[0m\u001b[0mprocesses\u001b[0m\u001b[0;34m)\u001b[0m\u001b[0;34m:\u001b[0m\u001b[0;34m\u001b[0m\u001b[0;34m\u001b[0m\u001b[0m\n\u001b[0;32m--> 117\u001b[0;31m             \u001b[0mval\u001b[0m \u001b[0;34m=\u001b[0m \u001b[0mget_if_worker_healthy\u001b[0m\u001b[0;34m(\u001b[0m\u001b[0mprocesses\u001b[0m\u001b[0;34m,\u001b[0m \u001b[0mqueue\u001b[0m\u001b[0;34m)\u001b[0m\u001b[0;34m\u001b[0m\u001b[0;34m\u001b[0m\u001b[0m\n\u001b[0m\u001b[1;32m    118\u001b[0m             \u001b[0;32mif\u001b[0m \u001b[0mval\u001b[0m \u001b[0;34m==\u001b[0m \u001b[0mDONE\u001b[0m\u001b[0;34m:\u001b[0m\u001b[0;34m\u001b[0m\u001b[0;34m\u001b[0m\u001b[0m\n\u001b[1;32m    119\u001b[0m                 \u001b[0mn_done\u001b[0m \u001b[0;34m+=\u001b[0m \u001b[0;36m1\u001b[0m\u001b[0;34m\u001b[0m\u001b[0;34m\u001b[0m\u001b[0m\n",
      "\u001b[0;32m~/pyabc/pyabc/sampler/multicorebase.py\u001b[0m in \u001b[0;36mget_if_worker_healthy\u001b[0;34m(workers, queue)\u001b[0m\n\u001b[1;32m     51\u001b[0m     \u001b[0;32mwhile\u001b[0m \u001b[0;32mTrue\u001b[0m\u001b[0;34m:\u001b[0m\u001b[0;34m\u001b[0m\u001b[0;34m\u001b[0m\u001b[0m\n\u001b[1;32m     52\u001b[0m         \u001b[0;32mtry\u001b[0m\u001b[0;34m:\u001b[0m\u001b[0;34m\u001b[0m\u001b[0;34m\u001b[0m\u001b[0m\n\u001b[0;32m---> 53\u001b[0;31m             \u001b[0mitem\u001b[0m \u001b[0;34m=\u001b[0m \u001b[0mqueue\u001b[0m\u001b[0;34m.\u001b[0m\u001b[0mget\u001b[0m\u001b[0;34m(\u001b[0m\u001b[0;32mTrue\u001b[0m\u001b[0;34m,\u001b[0m \u001b[0;36m5\u001b[0m\u001b[0;34m)\u001b[0m\u001b[0;34m\u001b[0m\u001b[0;34m\u001b[0m\u001b[0m\n\u001b[0m\u001b[1;32m     54\u001b[0m             \u001b[0;32mreturn\u001b[0m \u001b[0mitem\u001b[0m\u001b[0;34m\u001b[0m\u001b[0;34m\u001b[0m\u001b[0m\n\u001b[1;32m     55\u001b[0m         \u001b[0;32mexcept\u001b[0m \u001b[0mEmpty\u001b[0m\u001b[0;34m:\u001b[0m\u001b[0;34m\u001b[0m\u001b[0;34m\u001b[0m\u001b[0m\n",
      "\u001b[0;32m~/anaconda3/lib/python3.7/multiprocessing/queues.py\u001b[0m in \u001b[0;36mget\u001b[0;34m(self, block, timeout)\u001b[0m\n\u001b[1;32m    102\u001b[0m                 \u001b[0;32mif\u001b[0m \u001b[0mblock\u001b[0m\u001b[0;34m:\u001b[0m\u001b[0;34m\u001b[0m\u001b[0;34m\u001b[0m\u001b[0m\n\u001b[1;32m    103\u001b[0m                     \u001b[0mtimeout\u001b[0m \u001b[0;34m=\u001b[0m \u001b[0mdeadline\u001b[0m \u001b[0;34m-\u001b[0m \u001b[0mtime\u001b[0m\u001b[0;34m.\u001b[0m\u001b[0mmonotonic\u001b[0m\u001b[0;34m(\u001b[0m\u001b[0;34m)\u001b[0m\u001b[0;34m\u001b[0m\u001b[0;34m\u001b[0m\u001b[0m\n\u001b[0;32m--> 104\u001b[0;31m                     \u001b[0;32mif\u001b[0m \u001b[0;32mnot\u001b[0m \u001b[0mself\u001b[0m\u001b[0;34m.\u001b[0m\u001b[0m_poll\u001b[0m\u001b[0;34m(\u001b[0m\u001b[0mtimeout\u001b[0m\u001b[0;34m)\u001b[0m\u001b[0;34m:\u001b[0m\u001b[0;34m\u001b[0m\u001b[0;34m\u001b[0m\u001b[0m\n\u001b[0m\u001b[1;32m    105\u001b[0m                         \u001b[0;32mraise\u001b[0m \u001b[0mEmpty\u001b[0m\u001b[0;34m\u001b[0m\u001b[0;34m\u001b[0m\u001b[0m\n\u001b[1;32m    106\u001b[0m                 \u001b[0;32melif\u001b[0m \u001b[0;32mnot\u001b[0m \u001b[0mself\u001b[0m\u001b[0;34m.\u001b[0m\u001b[0m_poll\u001b[0m\u001b[0;34m(\u001b[0m\u001b[0;34m)\u001b[0m\u001b[0;34m:\u001b[0m\u001b[0;34m\u001b[0m\u001b[0;34m\u001b[0m\u001b[0m\n",
      "\u001b[0;32m~/anaconda3/lib/python3.7/multiprocessing/connection.py\u001b[0m in \u001b[0;36mpoll\u001b[0;34m(self, timeout)\u001b[0m\n\u001b[1;32m    255\u001b[0m         \u001b[0mself\u001b[0m\u001b[0;34m.\u001b[0m\u001b[0m_check_closed\u001b[0m\u001b[0;34m(\u001b[0m\u001b[0;34m)\u001b[0m\u001b[0;34m\u001b[0m\u001b[0;34m\u001b[0m\u001b[0m\n\u001b[1;32m    256\u001b[0m         \u001b[0mself\u001b[0m\u001b[0;34m.\u001b[0m\u001b[0m_check_readable\u001b[0m\u001b[0;34m(\u001b[0m\u001b[0;34m)\u001b[0m\u001b[0;34m\u001b[0m\u001b[0;34m\u001b[0m\u001b[0m\n\u001b[0;32m--> 257\u001b[0;31m         \u001b[0;32mreturn\u001b[0m \u001b[0mself\u001b[0m\u001b[0;34m.\u001b[0m\u001b[0m_poll\u001b[0m\u001b[0;34m(\u001b[0m\u001b[0mtimeout\u001b[0m\u001b[0;34m)\u001b[0m\u001b[0;34m\u001b[0m\u001b[0;34m\u001b[0m\u001b[0m\n\u001b[0m\u001b[1;32m    258\u001b[0m \u001b[0;34m\u001b[0m\u001b[0m\n\u001b[1;32m    259\u001b[0m     \u001b[0;32mdef\u001b[0m \u001b[0m__enter__\u001b[0m\u001b[0;34m(\u001b[0m\u001b[0mself\u001b[0m\u001b[0;34m)\u001b[0m\u001b[0;34m:\u001b[0m\u001b[0;34m\u001b[0m\u001b[0;34m\u001b[0m\u001b[0m\n",
      "\u001b[0;32m~/anaconda3/lib/python3.7/multiprocessing/connection.py\u001b[0m in \u001b[0;36m_poll\u001b[0;34m(self, timeout)\u001b[0m\n\u001b[1;32m    412\u001b[0m \u001b[0;34m\u001b[0m\u001b[0m\n\u001b[1;32m    413\u001b[0m     \u001b[0;32mdef\u001b[0m \u001b[0m_poll\u001b[0m\u001b[0;34m(\u001b[0m\u001b[0mself\u001b[0m\u001b[0;34m,\u001b[0m \u001b[0mtimeout\u001b[0m\u001b[0;34m)\u001b[0m\u001b[0;34m:\u001b[0m\u001b[0;34m\u001b[0m\u001b[0;34m\u001b[0m\u001b[0m\n\u001b[0;32m--> 414\u001b[0;31m         \u001b[0mr\u001b[0m \u001b[0;34m=\u001b[0m \u001b[0mwait\u001b[0m\u001b[0;34m(\u001b[0m\u001b[0;34m[\u001b[0m\u001b[0mself\u001b[0m\u001b[0;34m]\u001b[0m\u001b[0;34m,\u001b[0m \u001b[0mtimeout\u001b[0m\u001b[0;34m)\u001b[0m\u001b[0;34m\u001b[0m\u001b[0;34m\u001b[0m\u001b[0m\n\u001b[0m\u001b[1;32m    415\u001b[0m         \u001b[0;32mreturn\u001b[0m \u001b[0mbool\u001b[0m\u001b[0;34m(\u001b[0m\u001b[0mr\u001b[0m\u001b[0;34m)\u001b[0m\u001b[0;34m\u001b[0m\u001b[0;34m\u001b[0m\u001b[0m\n\u001b[1;32m    416\u001b[0m \u001b[0;34m\u001b[0m\u001b[0m\n",
      "\u001b[0;32m~/anaconda3/lib/python3.7/multiprocessing/connection.py\u001b[0m in \u001b[0;36mwait\u001b[0;34m(object_list, timeout)\u001b[0m\n\u001b[1;32m    918\u001b[0m \u001b[0;34m\u001b[0m\u001b[0m\n\u001b[1;32m    919\u001b[0m             \u001b[0;32mwhile\u001b[0m \u001b[0;32mTrue\u001b[0m\u001b[0;34m:\u001b[0m\u001b[0;34m\u001b[0m\u001b[0;34m\u001b[0m\u001b[0m\n\u001b[0;32m--> 920\u001b[0;31m                 \u001b[0mready\u001b[0m \u001b[0;34m=\u001b[0m \u001b[0mselector\u001b[0m\u001b[0;34m.\u001b[0m\u001b[0mselect\u001b[0m\u001b[0;34m(\u001b[0m\u001b[0mtimeout\u001b[0m\u001b[0;34m)\u001b[0m\u001b[0;34m\u001b[0m\u001b[0;34m\u001b[0m\u001b[0m\n\u001b[0m\u001b[1;32m    921\u001b[0m                 \u001b[0;32mif\u001b[0m \u001b[0mready\u001b[0m\u001b[0;34m:\u001b[0m\u001b[0;34m\u001b[0m\u001b[0;34m\u001b[0m\u001b[0m\n\u001b[1;32m    922\u001b[0m                     \u001b[0;32mreturn\u001b[0m \u001b[0;34m[\u001b[0m\u001b[0mkey\u001b[0m\u001b[0;34m.\u001b[0m\u001b[0mfileobj\u001b[0m \u001b[0;32mfor\u001b[0m \u001b[0;34m(\u001b[0m\u001b[0mkey\u001b[0m\u001b[0;34m,\u001b[0m \u001b[0mevents\u001b[0m\u001b[0;34m)\u001b[0m \u001b[0;32min\u001b[0m \u001b[0mready\u001b[0m\u001b[0;34m]\u001b[0m\u001b[0;34m\u001b[0m\u001b[0;34m\u001b[0m\u001b[0m\n",
      "\u001b[0;32m~/anaconda3/lib/python3.7/selectors.py\u001b[0m in \u001b[0;36mselect\u001b[0;34m(self, timeout)\u001b[0m\n\u001b[1;32m    413\u001b[0m         \u001b[0mready\u001b[0m \u001b[0;34m=\u001b[0m \u001b[0;34m[\u001b[0m\u001b[0;34m]\u001b[0m\u001b[0;34m\u001b[0m\u001b[0;34m\u001b[0m\u001b[0m\n\u001b[1;32m    414\u001b[0m         \u001b[0;32mtry\u001b[0m\u001b[0;34m:\u001b[0m\u001b[0;34m\u001b[0m\u001b[0;34m\u001b[0m\u001b[0m\n\u001b[0;32m--> 415\u001b[0;31m             \u001b[0mfd_event_list\u001b[0m \u001b[0;34m=\u001b[0m \u001b[0mself\u001b[0m\u001b[0;34m.\u001b[0m\u001b[0m_selector\u001b[0m\u001b[0;34m.\u001b[0m\u001b[0mpoll\u001b[0m\u001b[0;34m(\u001b[0m\u001b[0mtimeout\u001b[0m\u001b[0;34m)\u001b[0m\u001b[0;34m\u001b[0m\u001b[0;34m\u001b[0m\u001b[0m\n\u001b[0m\u001b[1;32m    416\u001b[0m         \u001b[0;32mexcept\u001b[0m \u001b[0mInterruptedError\u001b[0m\u001b[0;34m:\u001b[0m\u001b[0;34m\u001b[0m\u001b[0;34m\u001b[0m\u001b[0m\n\u001b[1;32m    417\u001b[0m             \u001b[0;32mreturn\u001b[0m \u001b[0mready\u001b[0m\u001b[0;34m\u001b[0m\u001b[0;34m\u001b[0m\u001b[0m\n",
      "\u001b[0;31mKeyboardInterrupt\u001b[0m: "
     ]
    }
   ],
   "source": [
    "acceptor = pyabc.StochasticAcceptor()\n",
    "temperature = pyabc.Temperature(\n",
    "    initial_temperature=pyabc.AcceptanceRateScheme(),\n",
    "    schemes=[pyabc.AcceptanceRateScheme()],\n",
    "    enforce_exact_final_temperature=False)\n",
    "\n",
    "# define the analysis\n",
    "for pop_size in [100, 1000]:\n",
    "    abc = pyabc.ABCSMC(\n",
    "        models=mv.get_model(),\n",
    "        parameter_priors=mv.get_prior(),\n",
    "        distance_function=mv.get_kernel(),\n",
    "        eps=temperature,\n",
    "        acceptor=acceptor,\n",
    "        population_size=pop_size)\n",
    "    history_sde = abc.new(\"sqlite:///h_hh.db\", data)\n",
    "    history_sde = abc.run(max_nr_populations=6)"
   ]
  },
  {
   "cell_type": "code",
   "execution_count": null,
   "metadata": {},
   "outputs": [],
   "source": [
    "pyabc.visualization.plot_acceptance_rates_trajectory(history_sde)\n",
    "pyabc.visualization.plot_epsilons(history_sde)\n",
    "pyabc.visualization.plot_effective_sample_sizes(history_sde)"
   ]
  },
  {
   "cell_type": "markdown",
   "metadata": {},
   "source": [
    "# Plots"
   ]
  },
  {
   "cell_type": "code",
   "execution_count": null,
   "metadata": {},
   "outputs": [],
   "source": [
    "pop_sizes = [100, 1000]\n",
    "h_cr_100 = pyabc.History(\"sqlite:///h_cr.db\", _id=1)\n",
    "h_cr_1000 = pyabc.History(\"sqlite:///h_cr.db\", _id=2)\n",
    "h_mrna_100 = pyabc.History(\"sqlite:///h_mrna.db\", _id=1)\n",
    "h_mrna_1000 = pyabc.History(\"sqlite:///h_mrna.db\", _id=2)\n",
    "h_hh_100 = pyabc.History(\"sqlite:///h_hh.db\", _id=1)\n",
    "h_hh_1000 = pyabc.History(\"sqlite:///h_hh.db\", _id=2)\n",
    "\n",
    "histories = [h_cr_100, h_cr_1000,\n",
    "             h_mrna_100,h_mrna_1000,\n",
    "             h_hh_100,h_hh_1000]\n",
    "labels = [\"ODE N=100\", \"ODE N=1000\", \"MJP N=100\", \"MJP N=1000\", \"SDE N=100\", \"SDE N=1000\"]\n",
    "pyabc.visualization.plot_acceptance_rates_trajectory(histories, labels)"
   ]
  },
  {
   "cell_type": "code",
   "execution_count": null,
   "metadata": {},
   "outputs": [],
   "source": []
  }
 ],
 "metadata": {
  "kernelspec": {
   "display_name": "Python 3",
   "language": "python",
   "name": "python3"
  },
  "language_info": {
   "codemirror_mode": {
    "name": "ipython",
    "version": 3
   },
   "file_extension": ".py",
   "mimetype": "text/x-python",
   "name": "python",
   "nbconvert_exporter": "python",
   "pygments_lexer": "ipython3",
   "version": "3.7.3"
  }
 },
 "nbformat": 4,
 "nbformat_minor": 2
}
